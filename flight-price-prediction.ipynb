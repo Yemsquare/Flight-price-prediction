{
 "cells": [
  {
   "cell_type": "code",
   "execution_count": 1,
   "id": "c3d7ceaa",
   "metadata": {
    "_cell_guid": "b1076dfc-b9ad-4769-8c92-a6c4dae69d19",
    "_uuid": "8f2839f25d086af736a60e9eeb907d3b93b6e0e5",
    "execution": {
     "iopub.execute_input": "2022-11-24T09:58:39.655572Z",
     "iopub.status.busy": "2022-11-24T09:58:39.655107Z",
     "iopub.status.idle": "2022-11-24T09:58:40.723014Z",
     "shell.execute_reply": "2022-11-24T09:58:40.722038Z"
    },
    "papermill": {
     "duration": 1.090373,
     "end_time": "2022-11-24T09:58:40.725835",
     "exception": false,
     "start_time": "2022-11-24T09:58:39.635462",
     "status": "completed"
    },
    "tags": []
   },
   "outputs": [],
   "source": [
    "#importing basics libraries\n",
    "import pandas as pd\n",
    "import numpy as np\n",
    "import matplotlib.pyplot as plt\n",
    "import seaborn as sns\n",
    "%matplotlib inline"
   ]
  },
  {
   "cell_type": "code",
   "execution_count": 2,
   "id": "80a4068e",
   "metadata": {
    "execution": {
     "iopub.execute_input": "2022-11-24T09:58:40.761788Z",
     "iopub.status.busy": "2022-11-24T09:58:40.760824Z",
     "iopub.status.idle": "2022-11-24T09:58:40.774273Z",
     "shell.execute_reply": "2022-11-24T09:58:40.773007Z"
    },
    "papermill": {
     "duration": 0.0342,
     "end_time": "2022-11-24T09:58:40.777173",
     "exception": false,
     "start_time": "2022-11-24T09:58:40.742973",
     "status": "completed"
    },
    "tags": []
   },
   "outputs": [
    {
     "name": "stdout",
     "output_type": "stream",
     "text": [
      "/kaggle/input/flight-price-prediction-dataset/Data_Train.xlsx\n",
      "/kaggle/input/flight-price-prediction-dataset/Test_set.xlsx\n"
     ]
    }
   ],
   "source": [
    "import os\n",
    "for dirname, _, filenames in os.walk('/kaggle/input'):\n",
    "    for filename in filenames:\n",
    "        print(os.path.join(dirname, filename))"
   ]
  },
  {
   "cell_type": "code",
   "execution_count": 3,
   "id": "fd9cf242",
   "metadata": {
    "execution": {
     "iopub.execute_input": "2022-11-24T09:58:40.814029Z",
     "iopub.status.busy": "2022-11-24T09:58:40.813205Z",
     "iopub.status.idle": "2022-11-24T09:58:43.492242Z",
     "shell.execute_reply": "2022-11-24T09:58:43.491300Z"
    },
    "papermill": {
     "duration": 2.700478,
     "end_time": "2022-11-24T09:58:43.494804",
     "exception": false,
     "start_time": "2022-11-24T09:58:40.794326",
     "status": "completed"
    },
    "tags": []
   },
   "outputs": [],
   "source": [
    "train_df=pd.read_excel('/kaggle/input/flight-price-prediction-dataset/Data_Train.xlsx')\n",
    "test_df=pd.read_excel('/kaggle/input/flight-price-prediction-dataset/Test_set.xlsx')"
   ]
  },
  {
   "cell_type": "code",
   "execution_count": 4,
   "id": "7e817727",
   "metadata": {
    "execution": {
     "iopub.execute_input": "2022-11-24T09:58:43.530376Z",
     "iopub.status.busy": "2022-11-24T09:58:43.529950Z",
     "iopub.status.idle": "2022-11-24T09:58:43.554901Z",
     "shell.execute_reply": "2022-11-24T09:58:43.553693Z"
    },
    "papermill": {
     "duration": 0.045374,
     "end_time": "2022-11-24T09:58:43.557371",
     "exception": false,
     "start_time": "2022-11-24T09:58:43.511997",
     "status": "completed"
    },
    "tags": []
   },
   "outputs": [
    {
     "data": {
      "text/html": [
       "<div>\n",
       "<style scoped>\n",
       "    .dataframe tbody tr th:only-of-type {\n",
       "        vertical-align: middle;\n",
       "    }\n",
       "\n",
       "    .dataframe tbody tr th {\n",
       "        vertical-align: top;\n",
       "    }\n",
       "\n",
       "    .dataframe thead th {\n",
       "        text-align: right;\n",
       "    }\n",
       "</style>\n",
       "<table border=\"1\" class=\"dataframe\">\n",
       "  <thead>\n",
       "    <tr style=\"text-align: right;\">\n",
       "      <th></th>\n",
       "      <th>Airline</th>\n",
       "      <th>Date_of_Journey</th>\n",
       "      <th>Source</th>\n",
       "      <th>Destination</th>\n",
       "      <th>Route</th>\n",
       "      <th>Dep_Time</th>\n",
       "      <th>Arrival_Time</th>\n",
       "      <th>Duration</th>\n",
       "      <th>Total_Stops</th>\n",
       "      <th>Additional_Info</th>\n",
       "      <th>Price</th>\n",
       "    </tr>\n",
       "  </thead>\n",
       "  <tbody>\n",
       "    <tr>\n",
       "      <th>0</th>\n",
       "      <td>IndiGo</td>\n",
       "      <td>24/03/2019</td>\n",
       "      <td>Banglore</td>\n",
       "      <td>New Delhi</td>\n",
       "      <td>BLR → DEL</td>\n",
       "      <td>22:20</td>\n",
       "      <td>01:10 22 Mar</td>\n",
       "      <td>2h 50m</td>\n",
       "      <td>non-stop</td>\n",
       "      <td>No info</td>\n",
       "      <td>3897</td>\n",
       "    </tr>\n",
       "    <tr>\n",
       "      <th>1</th>\n",
       "      <td>Air India</td>\n",
       "      <td>1/05/2019</td>\n",
       "      <td>Kolkata</td>\n",
       "      <td>Banglore</td>\n",
       "      <td>CCU → IXR → BBI → BLR</td>\n",
       "      <td>05:50</td>\n",
       "      <td>13:15</td>\n",
       "      <td>7h 25m</td>\n",
       "      <td>2 stops</td>\n",
       "      <td>No info</td>\n",
       "      <td>7662</td>\n",
       "    </tr>\n",
       "    <tr>\n",
       "      <th>2</th>\n",
       "      <td>Jet Airways</td>\n",
       "      <td>9/06/2019</td>\n",
       "      <td>Delhi</td>\n",
       "      <td>Cochin</td>\n",
       "      <td>DEL → LKO → BOM → COK</td>\n",
       "      <td>09:25</td>\n",
       "      <td>04:25 10 Jun</td>\n",
       "      <td>19h</td>\n",
       "      <td>2 stops</td>\n",
       "      <td>No info</td>\n",
       "      <td>13882</td>\n",
       "    </tr>\n",
       "    <tr>\n",
       "      <th>3</th>\n",
       "      <td>IndiGo</td>\n",
       "      <td>12/05/2019</td>\n",
       "      <td>Kolkata</td>\n",
       "      <td>Banglore</td>\n",
       "      <td>CCU → NAG → BLR</td>\n",
       "      <td>18:05</td>\n",
       "      <td>23:30</td>\n",
       "      <td>5h 25m</td>\n",
       "      <td>1 stop</td>\n",
       "      <td>No info</td>\n",
       "      <td>6218</td>\n",
       "    </tr>\n",
       "    <tr>\n",
       "      <th>4</th>\n",
       "      <td>IndiGo</td>\n",
       "      <td>01/03/2019</td>\n",
       "      <td>Banglore</td>\n",
       "      <td>New Delhi</td>\n",
       "      <td>BLR → NAG → DEL</td>\n",
       "      <td>16:50</td>\n",
       "      <td>21:35</td>\n",
       "      <td>4h 45m</td>\n",
       "      <td>1 stop</td>\n",
       "      <td>No info</td>\n",
       "      <td>13302</td>\n",
       "    </tr>\n",
       "  </tbody>\n",
       "</table>\n",
       "</div>"
      ],
      "text/plain": [
       "       Airline Date_of_Journey    Source Destination                  Route  \\\n",
       "0       IndiGo      24/03/2019  Banglore   New Delhi              BLR → DEL   \n",
       "1    Air India       1/05/2019   Kolkata    Banglore  CCU → IXR → BBI → BLR   \n",
       "2  Jet Airways       9/06/2019     Delhi      Cochin  DEL → LKO → BOM → COK   \n",
       "3       IndiGo      12/05/2019   Kolkata    Banglore        CCU → NAG → BLR   \n",
       "4       IndiGo      01/03/2019  Banglore   New Delhi        BLR → NAG → DEL   \n",
       "\n",
       "  Dep_Time  Arrival_Time Duration Total_Stops Additional_Info  Price  \n",
       "0    22:20  01:10 22 Mar   2h 50m    non-stop         No info   3897  \n",
       "1    05:50         13:15   7h 25m     2 stops         No info   7662  \n",
       "2    09:25  04:25 10 Jun      19h     2 stops         No info  13882  \n",
       "3    18:05         23:30   5h 25m      1 stop         No info   6218  \n",
       "4    16:50         21:35   4h 45m      1 stop         No info  13302  "
      ]
     },
     "execution_count": 4,
     "metadata": {},
     "output_type": "execute_result"
    }
   ],
   "source": [
    "train_df.head()"
   ]
  },
  {
   "cell_type": "code",
   "execution_count": 5,
   "id": "ecf663dc",
   "metadata": {
    "execution": {
     "iopub.execute_input": "2022-11-24T09:58:43.595032Z",
     "iopub.status.busy": "2022-11-24T09:58:43.594228Z",
     "iopub.status.idle": "2022-11-24T09:58:43.611872Z",
     "shell.execute_reply": "2022-11-24T09:58:43.610685Z"
    },
    "papermill": {
     "duration": 0.0391,
     "end_time": "2022-11-24T09:58:43.614284",
     "exception": false,
     "start_time": "2022-11-24T09:58:43.575184",
     "status": "completed"
    },
    "tags": []
   },
   "outputs": [
    {
     "data": {
      "text/html": [
       "<div>\n",
       "<style scoped>\n",
       "    .dataframe tbody tr th:only-of-type {\n",
       "        vertical-align: middle;\n",
       "    }\n",
       "\n",
       "    .dataframe tbody tr th {\n",
       "        vertical-align: top;\n",
       "    }\n",
       "\n",
       "    .dataframe thead th {\n",
       "        text-align: right;\n",
       "    }\n",
       "</style>\n",
       "<table border=\"1\" class=\"dataframe\">\n",
       "  <thead>\n",
       "    <tr style=\"text-align: right;\">\n",
       "      <th></th>\n",
       "      <th>Airline</th>\n",
       "      <th>Date_of_Journey</th>\n",
       "      <th>Source</th>\n",
       "      <th>Destination</th>\n",
       "      <th>Route</th>\n",
       "      <th>Dep_Time</th>\n",
       "      <th>Arrival_Time</th>\n",
       "      <th>Duration</th>\n",
       "      <th>Total_Stops</th>\n",
       "      <th>Additional_Info</th>\n",
       "    </tr>\n",
       "  </thead>\n",
       "  <tbody>\n",
       "    <tr>\n",
       "      <th>0</th>\n",
       "      <td>Jet Airways</td>\n",
       "      <td>6/06/2019</td>\n",
       "      <td>Delhi</td>\n",
       "      <td>Cochin</td>\n",
       "      <td>DEL → BOM → COK</td>\n",
       "      <td>17:30</td>\n",
       "      <td>04:25 07 Jun</td>\n",
       "      <td>10h 55m</td>\n",
       "      <td>1 stop</td>\n",
       "      <td>No info</td>\n",
       "    </tr>\n",
       "    <tr>\n",
       "      <th>1</th>\n",
       "      <td>IndiGo</td>\n",
       "      <td>12/05/2019</td>\n",
       "      <td>Kolkata</td>\n",
       "      <td>Banglore</td>\n",
       "      <td>CCU → MAA → BLR</td>\n",
       "      <td>06:20</td>\n",
       "      <td>10:20</td>\n",
       "      <td>4h</td>\n",
       "      <td>1 stop</td>\n",
       "      <td>No info</td>\n",
       "    </tr>\n",
       "    <tr>\n",
       "      <th>2</th>\n",
       "      <td>Jet Airways</td>\n",
       "      <td>21/05/2019</td>\n",
       "      <td>Delhi</td>\n",
       "      <td>Cochin</td>\n",
       "      <td>DEL → BOM → COK</td>\n",
       "      <td>19:15</td>\n",
       "      <td>19:00 22 May</td>\n",
       "      <td>23h 45m</td>\n",
       "      <td>1 stop</td>\n",
       "      <td>In-flight meal not included</td>\n",
       "    </tr>\n",
       "    <tr>\n",
       "      <th>3</th>\n",
       "      <td>Multiple carriers</td>\n",
       "      <td>21/05/2019</td>\n",
       "      <td>Delhi</td>\n",
       "      <td>Cochin</td>\n",
       "      <td>DEL → BOM → COK</td>\n",
       "      <td>08:00</td>\n",
       "      <td>21:00</td>\n",
       "      <td>13h</td>\n",
       "      <td>1 stop</td>\n",
       "      <td>No info</td>\n",
       "    </tr>\n",
       "    <tr>\n",
       "      <th>4</th>\n",
       "      <td>Air Asia</td>\n",
       "      <td>24/06/2019</td>\n",
       "      <td>Banglore</td>\n",
       "      <td>Delhi</td>\n",
       "      <td>BLR → DEL</td>\n",
       "      <td>23:55</td>\n",
       "      <td>02:45 25 Jun</td>\n",
       "      <td>2h 50m</td>\n",
       "      <td>non-stop</td>\n",
       "      <td>No info</td>\n",
       "    </tr>\n",
       "  </tbody>\n",
       "</table>\n",
       "</div>"
      ],
      "text/plain": [
       "             Airline Date_of_Journey    Source Destination            Route  \\\n",
       "0        Jet Airways       6/06/2019     Delhi      Cochin  DEL → BOM → COK   \n",
       "1             IndiGo      12/05/2019   Kolkata    Banglore  CCU → MAA → BLR   \n",
       "2        Jet Airways      21/05/2019     Delhi      Cochin  DEL → BOM → COK   \n",
       "3  Multiple carriers      21/05/2019     Delhi      Cochin  DEL → BOM → COK   \n",
       "4           Air Asia      24/06/2019  Banglore       Delhi        BLR → DEL   \n",
       "\n",
       "  Dep_Time  Arrival_Time Duration Total_Stops              Additional_Info  \n",
       "0    17:30  04:25 07 Jun  10h 55m      1 stop                      No info  \n",
       "1    06:20         10:20       4h      1 stop                      No info  \n",
       "2    19:15  19:00 22 May  23h 45m      1 stop  In-flight meal not included  \n",
       "3    08:00         21:00      13h      1 stop                      No info  \n",
       "4    23:55  02:45 25 Jun   2h 50m    non-stop                      No info  "
      ]
     },
     "execution_count": 5,
     "metadata": {},
     "output_type": "execute_result"
    }
   ],
   "source": [
    "test_df.head()"
   ]
  },
  {
   "cell_type": "code",
   "execution_count": 6,
   "id": "a14d9f79",
   "metadata": {
    "execution": {
     "iopub.execute_input": "2022-11-24T09:58:43.651363Z",
     "iopub.status.busy": "2022-11-24T09:58:43.650537Z",
     "iopub.status.idle": "2022-11-24T09:58:43.663701Z",
     "shell.execute_reply": "2022-11-24T09:58:43.662780Z"
    },
    "papermill": {
     "duration": 0.034447,
     "end_time": "2022-11-24T09:58:43.666195",
     "exception": false,
     "start_time": "2022-11-24T09:58:43.631748",
     "status": "completed"
    },
    "tags": []
   },
   "outputs": [],
   "source": [
    "final_df=train_df.append(test_df)"
   ]
  },
  {
   "cell_type": "code",
   "execution_count": 7,
   "id": "bbc35719",
   "metadata": {
    "execution": {
     "iopub.execute_input": "2022-11-24T09:58:43.703708Z",
     "iopub.status.busy": "2022-11-24T09:58:43.702573Z",
     "iopub.status.idle": "2022-11-24T09:58:43.720112Z",
     "shell.execute_reply": "2022-11-24T09:58:43.719291Z"
    },
    "papermill": {
     "duration": 0.038607,
     "end_time": "2022-11-24T09:58:43.722333",
     "exception": false,
     "start_time": "2022-11-24T09:58:43.683726",
     "status": "completed"
    },
    "tags": []
   },
   "outputs": [
    {
     "data": {
      "text/html": [
       "<div>\n",
       "<style scoped>\n",
       "    .dataframe tbody tr th:only-of-type {\n",
       "        vertical-align: middle;\n",
       "    }\n",
       "\n",
       "    .dataframe tbody tr th {\n",
       "        vertical-align: top;\n",
       "    }\n",
       "\n",
       "    .dataframe thead th {\n",
       "        text-align: right;\n",
       "    }\n",
       "</style>\n",
       "<table border=\"1\" class=\"dataframe\">\n",
       "  <thead>\n",
       "    <tr style=\"text-align: right;\">\n",
       "      <th></th>\n",
       "      <th>Airline</th>\n",
       "      <th>Date_of_Journey</th>\n",
       "      <th>Source</th>\n",
       "      <th>Destination</th>\n",
       "      <th>Route</th>\n",
       "      <th>Dep_Time</th>\n",
       "      <th>Arrival_Time</th>\n",
       "      <th>Duration</th>\n",
       "      <th>Total_Stops</th>\n",
       "      <th>Additional_Info</th>\n",
       "      <th>Price</th>\n",
       "    </tr>\n",
       "  </thead>\n",
       "  <tbody>\n",
       "    <tr>\n",
       "      <th>0</th>\n",
       "      <td>IndiGo</td>\n",
       "      <td>24/03/2019</td>\n",
       "      <td>Banglore</td>\n",
       "      <td>New Delhi</td>\n",
       "      <td>BLR → DEL</td>\n",
       "      <td>22:20</td>\n",
       "      <td>01:10 22 Mar</td>\n",
       "      <td>2h 50m</td>\n",
       "      <td>non-stop</td>\n",
       "      <td>No info</td>\n",
       "      <td>3897.0</td>\n",
       "    </tr>\n",
       "    <tr>\n",
       "      <th>1</th>\n",
       "      <td>Air India</td>\n",
       "      <td>1/05/2019</td>\n",
       "      <td>Kolkata</td>\n",
       "      <td>Banglore</td>\n",
       "      <td>CCU → IXR → BBI → BLR</td>\n",
       "      <td>05:50</td>\n",
       "      <td>13:15</td>\n",
       "      <td>7h 25m</td>\n",
       "      <td>2 stops</td>\n",
       "      <td>No info</td>\n",
       "      <td>7662.0</td>\n",
       "    </tr>\n",
       "    <tr>\n",
       "      <th>2</th>\n",
       "      <td>Jet Airways</td>\n",
       "      <td>9/06/2019</td>\n",
       "      <td>Delhi</td>\n",
       "      <td>Cochin</td>\n",
       "      <td>DEL → LKO → BOM → COK</td>\n",
       "      <td>09:25</td>\n",
       "      <td>04:25 10 Jun</td>\n",
       "      <td>19h</td>\n",
       "      <td>2 stops</td>\n",
       "      <td>No info</td>\n",
       "      <td>13882.0</td>\n",
       "    </tr>\n",
       "    <tr>\n",
       "      <th>3</th>\n",
       "      <td>IndiGo</td>\n",
       "      <td>12/05/2019</td>\n",
       "      <td>Kolkata</td>\n",
       "      <td>Banglore</td>\n",
       "      <td>CCU → NAG → BLR</td>\n",
       "      <td>18:05</td>\n",
       "      <td>23:30</td>\n",
       "      <td>5h 25m</td>\n",
       "      <td>1 stop</td>\n",
       "      <td>No info</td>\n",
       "      <td>6218.0</td>\n",
       "    </tr>\n",
       "    <tr>\n",
       "      <th>4</th>\n",
       "      <td>IndiGo</td>\n",
       "      <td>01/03/2019</td>\n",
       "      <td>Banglore</td>\n",
       "      <td>New Delhi</td>\n",
       "      <td>BLR → NAG → DEL</td>\n",
       "      <td>16:50</td>\n",
       "      <td>21:35</td>\n",
       "      <td>4h 45m</td>\n",
       "      <td>1 stop</td>\n",
       "      <td>No info</td>\n",
       "      <td>13302.0</td>\n",
       "    </tr>\n",
       "  </tbody>\n",
       "</table>\n",
       "</div>"
      ],
      "text/plain": [
       "       Airline Date_of_Journey    Source Destination                  Route  \\\n",
       "0       IndiGo      24/03/2019  Banglore   New Delhi              BLR → DEL   \n",
       "1    Air India       1/05/2019   Kolkata    Banglore  CCU → IXR → BBI → BLR   \n",
       "2  Jet Airways       9/06/2019     Delhi      Cochin  DEL → LKO → BOM → COK   \n",
       "3       IndiGo      12/05/2019   Kolkata    Banglore        CCU → NAG → BLR   \n",
       "4       IndiGo      01/03/2019  Banglore   New Delhi        BLR → NAG → DEL   \n",
       "\n",
       "  Dep_Time  Arrival_Time Duration Total_Stops Additional_Info    Price  \n",
       "0    22:20  01:10 22 Mar   2h 50m    non-stop         No info   3897.0  \n",
       "1    05:50         13:15   7h 25m     2 stops         No info   7662.0  \n",
       "2    09:25  04:25 10 Jun      19h     2 stops         No info  13882.0  \n",
       "3    18:05         23:30   5h 25m      1 stop         No info   6218.0  \n",
       "4    16:50         21:35   4h 45m      1 stop         No info  13302.0  "
      ]
     },
     "execution_count": 7,
     "metadata": {},
     "output_type": "execute_result"
    }
   ],
   "source": [
    "final_df.head()"
   ]
  },
  {
   "cell_type": "code",
   "execution_count": 8,
   "id": "4baffe21",
   "metadata": {
    "execution": {
     "iopub.execute_input": "2022-11-24T09:58:43.759908Z",
     "iopub.status.busy": "2022-11-24T09:58:43.759436Z",
     "iopub.status.idle": "2022-11-24T09:58:43.778358Z",
     "shell.execute_reply": "2022-11-24T09:58:43.777127Z"
    },
    "papermill": {
     "duration": 0.040795,
     "end_time": "2022-11-24T09:58:43.780926",
     "exception": false,
     "start_time": "2022-11-24T09:58:43.740131",
     "status": "completed"
    },
    "tags": []
   },
   "outputs": [
    {
     "data": {
      "text/html": [
       "<div>\n",
       "<style scoped>\n",
       "    .dataframe tbody tr th:only-of-type {\n",
       "        vertical-align: middle;\n",
       "    }\n",
       "\n",
       "    .dataframe tbody tr th {\n",
       "        vertical-align: top;\n",
       "    }\n",
       "\n",
       "    .dataframe thead th {\n",
       "        text-align: right;\n",
       "    }\n",
       "</style>\n",
       "<table border=\"1\" class=\"dataframe\">\n",
       "  <thead>\n",
       "    <tr style=\"text-align: right;\">\n",
       "      <th></th>\n",
       "      <th>Airline</th>\n",
       "      <th>Date_of_Journey</th>\n",
       "      <th>Source</th>\n",
       "      <th>Destination</th>\n",
       "      <th>Route</th>\n",
       "      <th>Dep_Time</th>\n",
       "      <th>Arrival_Time</th>\n",
       "      <th>Duration</th>\n",
       "      <th>Total_Stops</th>\n",
       "      <th>Additional_Info</th>\n",
       "      <th>Price</th>\n",
       "    </tr>\n",
       "  </thead>\n",
       "  <tbody>\n",
       "    <tr>\n",
       "      <th>2666</th>\n",
       "      <td>Air India</td>\n",
       "      <td>6/06/2019</td>\n",
       "      <td>Kolkata</td>\n",
       "      <td>Banglore</td>\n",
       "      <td>CCU → DEL → BLR</td>\n",
       "      <td>20:30</td>\n",
       "      <td>20:25 07 Jun</td>\n",
       "      <td>23h 55m</td>\n",
       "      <td>1 stop</td>\n",
       "      <td>No info</td>\n",
       "      <td>NaN</td>\n",
       "    </tr>\n",
       "    <tr>\n",
       "      <th>2667</th>\n",
       "      <td>IndiGo</td>\n",
       "      <td>27/03/2019</td>\n",
       "      <td>Kolkata</td>\n",
       "      <td>Banglore</td>\n",
       "      <td>CCU → BLR</td>\n",
       "      <td>14:20</td>\n",
       "      <td>16:55</td>\n",
       "      <td>2h 35m</td>\n",
       "      <td>non-stop</td>\n",
       "      <td>No info</td>\n",
       "      <td>NaN</td>\n",
       "    </tr>\n",
       "    <tr>\n",
       "      <th>2668</th>\n",
       "      <td>Jet Airways</td>\n",
       "      <td>6/03/2019</td>\n",
       "      <td>Delhi</td>\n",
       "      <td>Cochin</td>\n",
       "      <td>DEL → BOM → COK</td>\n",
       "      <td>21:50</td>\n",
       "      <td>04:25 07 Mar</td>\n",
       "      <td>6h 35m</td>\n",
       "      <td>1 stop</td>\n",
       "      <td>No info</td>\n",
       "      <td>NaN</td>\n",
       "    </tr>\n",
       "    <tr>\n",
       "      <th>2669</th>\n",
       "      <td>Air India</td>\n",
       "      <td>6/03/2019</td>\n",
       "      <td>Delhi</td>\n",
       "      <td>Cochin</td>\n",
       "      <td>DEL → BOM → COK</td>\n",
       "      <td>04:00</td>\n",
       "      <td>19:15</td>\n",
       "      <td>15h 15m</td>\n",
       "      <td>1 stop</td>\n",
       "      <td>No info</td>\n",
       "      <td>NaN</td>\n",
       "    </tr>\n",
       "    <tr>\n",
       "      <th>2670</th>\n",
       "      <td>Multiple carriers</td>\n",
       "      <td>15/06/2019</td>\n",
       "      <td>Delhi</td>\n",
       "      <td>Cochin</td>\n",
       "      <td>DEL → BOM → COK</td>\n",
       "      <td>04:55</td>\n",
       "      <td>19:15</td>\n",
       "      <td>14h 20m</td>\n",
       "      <td>1 stop</td>\n",
       "      <td>No info</td>\n",
       "      <td>NaN</td>\n",
       "    </tr>\n",
       "  </tbody>\n",
       "</table>\n",
       "</div>"
      ],
      "text/plain": [
       "                Airline Date_of_Journey   Source Destination            Route  \\\n",
       "2666          Air India       6/06/2019  Kolkata    Banglore  CCU → DEL → BLR   \n",
       "2667             IndiGo      27/03/2019  Kolkata    Banglore        CCU → BLR   \n",
       "2668        Jet Airways       6/03/2019    Delhi      Cochin  DEL → BOM → COK   \n",
       "2669          Air India       6/03/2019    Delhi      Cochin  DEL → BOM → COK   \n",
       "2670  Multiple carriers      15/06/2019    Delhi      Cochin  DEL → BOM → COK   \n",
       "\n",
       "     Dep_Time  Arrival_Time Duration Total_Stops Additional_Info  Price  \n",
       "2666    20:30  20:25 07 Jun  23h 55m      1 stop         No info    NaN  \n",
       "2667    14:20         16:55   2h 35m    non-stop         No info    NaN  \n",
       "2668    21:50  04:25 07 Mar   6h 35m      1 stop         No info    NaN  \n",
       "2669    04:00         19:15  15h 15m      1 stop         No info    NaN  \n",
       "2670    04:55         19:15  14h 20m      1 stop         No info    NaN  "
      ]
     },
     "execution_count": 8,
     "metadata": {},
     "output_type": "execute_result"
    }
   ],
   "source": [
    "final_df.tail()"
   ]
  },
  {
   "cell_type": "code",
   "execution_count": 9,
   "id": "32480644",
   "metadata": {
    "execution": {
     "iopub.execute_input": "2022-11-24T09:58:43.820300Z",
     "iopub.status.busy": "2022-11-24T09:58:43.819464Z",
     "iopub.status.idle": "2022-11-24T09:58:43.845872Z",
     "shell.execute_reply": "2022-11-24T09:58:43.844563Z"
    },
    "papermill": {
     "duration": 0.049173,
     "end_time": "2022-11-24T09:58:43.848939",
     "exception": false,
     "start_time": "2022-11-24T09:58:43.799766",
     "status": "completed"
    },
    "tags": []
   },
   "outputs": [
    {
     "name": "stdout",
     "output_type": "stream",
     "text": [
      "<class 'pandas.core.frame.DataFrame'>\n",
      "Int64Index: 13354 entries, 0 to 2670\n",
      "Data columns (total 11 columns):\n",
      " #   Column           Non-Null Count  Dtype  \n",
      "---  ------           --------------  -----  \n",
      " 0   Airline          13354 non-null  object \n",
      " 1   Date_of_Journey  13354 non-null  object \n",
      " 2   Source           13354 non-null  object \n",
      " 3   Destination      13354 non-null  object \n",
      " 4   Route            13353 non-null  object \n",
      " 5   Dep_Time         13354 non-null  object \n",
      " 6   Arrival_Time     13354 non-null  object \n",
      " 7   Duration         13354 non-null  object \n",
      " 8   Total_Stops      13353 non-null  object \n",
      " 9   Additional_Info  13354 non-null  object \n",
      " 10  Price            10683 non-null  float64\n",
      "dtypes: float64(1), object(10)\n",
      "memory usage: 1.2+ MB\n"
     ]
    }
   ],
   "source": [
    "final_df.info()"
   ]
  },
  {
   "cell_type": "code",
   "execution_count": 10,
   "id": "56632ed3",
   "metadata": {
    "execution": {
     "iopub.execute_input": "2022-11-24T09:58:43.889148Z",
     "iopub.status.busy": "2022-11-24T09:58:43.888424Z",
     "iopub.status.idle": "2022-11-24T09:58:43.918698Z",
     "shell.execute_reply": "2022-11-24T09:58:43.917333Z"
    },
    "papermill": {
     "duration": 0.053485,
     "end_time": "2022-11-24T09:58:43.921381",
     "exception": false,
     "start_time": "2022-11-24T09:58:43.867896",
     "status": "completed"
    },
    "tags": []
   },
   "outputs": [
    {
     "data": {
      "text/plain": [
       "0       24\n",
       "1        1\n",
       "2        9\n",
       "3       12\n",
       "4       01\n",
       "        ..\n",
       "2666     6\n",
       "2667    27\n",
       "2668     6\n",
       "2669     6\n",
       "2670    15\n",
       "Name: Date_of_Journey, Length: 13354, dtype: object"
      ]
     },
     "execution_count": 10,
     "metadata": {},
     "output_type": "execute_result"
    }
   ],
   "source": [
    "final_df['Date_of_Journey'].str.split('/').str[0]"
   ]
  },
  {
   "cell_type": "code",
   "execution_count": 11,
   "id": "187186de",
   "metadata": {
    "execution": {
     "iopub.execute_input": "2022-11-24T09:58:43.959902Z",
     "iopub.status.busy": "2022-11-24T09:58:43.959315Z",
     "iopub.status.idle": "2022-11-24T09:58:44.149423Z",
     "shell.execute_reply": "2022-11-24T09:58:44.148201Z"
    },
    "papermill": {
     "duration": 0.21262,
     "end_time": "2022-11-24T09:58:44.152390",
     "exception": false,
     "start_time": "2022-11-24T09:58:43.939770",
     "status": "completed"
    },
    "tags": []
   },
   "outputs": [],
   "source": [
    "final_df['Date']=final_df['Date_of_Journey'].str.split('/').str[0]\n",
    "final_df['Month']=final_df['Date_of_Journey'].str.split('/').str[1]\n",
    "final_df['Year']=final_df['Date_of_Journey'].str.split('/').str[2]"
   ]
  },
  {
   "cell_type": "code",
   "execution_count": 12,
   "id": "e38b2077",
   "metadata": {
    "execution": {
     "iopub.execute_input": "2022-11-24T09:58:44.192050Z",
     "iopub.status.busy": "2022-11-24T09:58:44.191450Z",
     "iopub.status.idle": "2022-11-24T09:58:44.213832Z",
     "shell.execute_reply": "2022-11-24T09:58:44.212671Z"
    },
    "papermill": {
     "duration": 0.044889,
     "end_time": "2022-11-24T09:58:44.216114",
     "exception": false,
     "start_time": "2022-11-24T09:58:44.171225",
     "status": "completed"
    },
    "tags": []
   },
   "outputs": [
    {
     "data": {
      "text/html": [
       "<div>\n",
       "<style scoped>\n",
       "    .dataframe tbody tr th:only-of-type {\n",
       "        vertical-align: middle;\n",
       "    }\n",
       "\n",
       "    .dataframe tbody tr th {\n",
       "        vertical-align: top;\n",
       "    }\n",
       "\n",
       "    .dataframe thead th {\n",
       "        text-align: right;\n",
       "    }\n",
       "</style>\n",
       "<table border=\"1\" class=\"dataframe\">\n",
       "  <thead>\n",
       "    <tr style=\"text-align: right;\">\n",
       "      <th></th>\n",
       "      <th>Airline</th>\n",
       "      <th>Date_of_Journey</th>\n",
       "      <th>Source</th>\n",
       "      <th>Destination</th>\n",
       "      <th>Route</th>\n",
       "      <th>Dep_Time</th>\n",
       "      <th>Arrival_Time</th>\n",
       "      <th>Duration</th>\n",
       "      <th>Total_Stops</th>\n",
       "      <th>Additional_Info</th>\n",
       "      <th>Price</th>\n",
       "      <th>Date</th>\n",
       "      <th>Month</th>\n",
       "      <th>Year</th>\n",
       "    </tr>\n",
       "  </thead>\n",
       "  <tbody>\n",
       "    <tr>\n",
       "      <th>0</th>\n",
       "      <td>IndiGo</td>\n",
       "      <td>24/03/2019</td>\n",
       "      <td>Banglore</td>\n",
       "      <td>New Delhi</td>\n",
       "      <td>BLR → DEL</td>\n",
       "      <td>22:20</td>\n",
       "      <td>01:10 22 Mar</td>\n",
       "      <td>2h 50m</td>\n",
       "      <td>non-stop</td>\n",
       "      <td>No info</td>\n",
       "      <td>3897.0</td>\n",
       "      <td>24</td>\n",
       "      <td>03</td>\n",
       "      <td>2019</td>\n",
       "    </tr>\n",
       "    <tr>\n",
       "      <th>1</th>\n",
       "      <td>Air India</td>\n",
       "      <td>1/05/2019</td>\n",
       "      <td>Kolkata</td>\n",
       "      <td>Banglore</td>\n",
       "      <td>CCU → IXR → BBI → BLR</td>\n",
       "      <td>05:50</td>\n",
       "      <td>13:15</td>\n",
       "      <td>7h 25m</td>\n",
       "      <td>2 stops</td>\n",
       "      <td>No info</td>\n",
       "      <td>7662.0</td>\n",
       "      <td>1</td>\n",
       "      <td>05</td>\n",
       "      <td>2019</td>\n",
       "    </tr>\n",
       "  </tbody>\n",
       "</table>\n",
       "</div>"
      ],
      "text/plain": [
       "     Airline Date_of_Journey    Source Destination                  Route  \\\n",
       "0     IndiGo      24/03/2019  Banglore   New Delhi              BLR → DEL   \n",
       "1  Air India       1/05/2019   Kolkata    Banglore  CCU → IXR → BBI → BLR   \n",
       "\n",
       "  Dep_Time  Arrival_Time Duration Total_Stops Additional_Info   Price Date  \\\n",
       "0    22:20  01:10 22 Mar   2h 50m    non-stop         No info  3897.0   24   \n",
       "1    05:50         13:15   7h 25m     2 stops         No info  7662.0    1   \n",
       "\n",
       "  Month  Year  \n",
       "0    03  2019  \n",
       "1    05  2019  "
      ]
     },
     "execution_count": 12,
     "metadata": {},
     "output_type": "execute_result"
    }
   ],
   "source": [
    "final_df.head(2)"
   ]
  },
  {
   "cell_type": "markdown",
   "id": "ed6264fe",
   "metadata": {
    "papermill": {
     "duration": 0.017972,
     "end_time": "2022-11-24T09:58:44.252713",
     "exception": false,
     "start_time": "2022-11-24T09:58:44.234741",
     "status": "completed"
    },
    "tags": []
   },
   "source": [
    "# You can also use lambda expression\n",
    "\n",
    "df[\"Date\"]=df['Date_of_Journey'].apply(lambda x:x.split(\"/\")[0])\n",
    "df[\"Month\"]=df['Date_of_Journey'].apply(lambda x:x.split(\"/\")[1])\n",
    "df[\"Year\"]=df['Date_of_Journey'].apply(lambda x:x.split(\"/\")[2])"
   ]
  },
  {
   "cell_type": "code",
   "execution_count": 13,
   "id": "209f5857",
   "metadata": {
    "execution": {
     "iopub.execute_input": "2022-11-24T09:58:44.291621Z",
     "iopub.status.busy": "2022-11-24T09:58:44.291133Z",
     "iopub.status.idle": "2022-11-24T09:58:44.305072Z",
     "shell.execute_reply": "2022-11-24T09:58:44.303860Z"
    },
    "papermill": {
     "duration": 0.036523,
     "end_time": "2022-11-24T09:58:44.307781",
     "exception": false,
     "start_time": "2022-11-24T09:58:44.271258",
     "status": "completed"
    },
    "tags": []
   },
   "outputs": [],
   "source": [
    "final_df['Date']=final_df['Date'].astype(int)\n",
    "final_df['Month']=final_df['Month'].astype(int)\n",
    "final_df['Year']=final_df['Year'].astype(int)"
   ]
  },
  {
   "cell_type": "code",
   "execution_count": 14,
   "id": "0cdc189f",
   "metadata": {
    "execution": {
     "iopub.execute_input": "2022-11-24T09:58:44.346948Z",
     "iopub.status.busy": "2022-11-24T09:58:44.346481Z",
     "iopub.status.idle": "2022-11-24T09:58:44.368679Z",
     "shell.execute_reply": "2022-11-24T09:58:44.367238Z"
    },
    "papermill": {
     "duration": 0.045663,
     "end_time": "2022-11-24T09:58:44.371943",
     "exception": false,
     "start_time": "2022-11-24T09:58:44.326280",
     "status": "completed"
    },
    "tags": []
   },
   "outputs": [
    {
     "name": "stdout",
     "output_type": "stream",
     "text": [
      "<class 'pandas.core.frame.DataFrame'>\n",
      "Int64Index: 13354 entries, 0 to 2670\n",
      "Data columns (total 14 columns):\n",
      " #   Column           Non-Null Count  Dtype  \n",
      "---  ------           --------------  -----  \n",
      " 0   Airline          13354 non-null  object \n",
      " 1   Date_of_Journey  13354 non-null  object \n",
      " 2   Source           13354 non-null  object \n",
      " 3   Destination      13354 non-null  object \n",
      " 4   Route            13353 non-null  object \n",
      " 5   Dep_Time         13354 non-null  object \n",
      " 6   Arrival_Time     13354 non-null  object \n",
      " 7   Duration         13354 non-null  object \n",
      " 8   Total_Stops      13353 non-null  object \n",
      " 9   Additional_Info  13354 non-null  object \n",
      " 10  Price            10683 non-null  float64\n",
      " 11  Date             13354 non-null  int64  \n",
      " 12  Month            13354 non-null  int64  \n",
      " 13  Year             13354 non-null  int64  \n",
      "dtypes: float64(1), int64(3), object(10)\n",
      "memory usage: 1.5+ MB\n"
     ]
    }
   ],
   "source": [
    "final_df.info()"
   ]
  },
  {
   "cell_type": "code",
   "execution_count": 15,
   "id": "09d716c4",
   "metadata": {
    "execution": {
     "iopub.execute_input": "2022-11-24T09:58:44.412187Z",
     "iopub.status.busy": "2022-11-24T09:58:44.411796Z",
     "iopub.status.idle": "2022-11-24T09:58:44.420666Z",
     "shell.execute_reply": "2022-11-24T09:58:44.419702Z"
    },
    "papermill": {
     "duration": 0.031182,
     "end_time": "2022-11-24T09:58:44.422747",
     "exception": false,
     "start_time": "2022-11-24T09:58:44.391565",
     "status": "completed"
    },
    "tags": []
   },
   "outputs": [],
   "source": [
    "final_df.drop('Date_of_Journey',axis=1,inplace=True)"
   ]
  },
  {
   "cell_type": "code",
   "execution_count": 16,
   "id": "ff779c67",
   "metadata": {
    "execution": {
     "iopub.execute_input": "2022-11-24T09:58:44.461621Z",
     "iopub.status.busy": "2022-11-24T09:58:44.461223Z",
     "iopub.status.idle": "2022-11-24T09:58:44.479932Z",
     "shell.execute_reply": "2022-11-24T09:58:44.478551Z"
    },
    "papermill": {
     "duration": 0.041007,
     "end_time": "2022-11-24T09:58:44.482219",
     "exception": false,
     "start_time": "2022-11-24T09:58:44.441212",
     "status": "completed"
    },
    "tags": []
   },
   "outputs": [
    {
     "data": {
      "text/html": [
       "<div>\n",
       "<style scoped>\n",
       "    .dataframe tbody tr th:only-of-type {\n",
       "        vertical-align: middle;\n",
       "    }\n",
       "\n",
       "    .dataframe tbody tr th {\n",
       "        vertical-align: top;\n",
       "    }\n",
       "\n",
       "    .dataframe thead th {\n",
       "        text-align: right;\n",
       "    }\n",
       "</style>\n",
       "<table border=\"1\" class=\"dataframe\">\n",
       "  <thead>\n",
       "    <tr style=\"text-align: right;\">\n",
       "      <th></th>\n",
       "      <th>Airline</th>\n",
       "      <th>Source</th>\n",
       "      <th>Destination</th>\n",
       "      <th>Route</th>\n",
       "      <th>Dep_Time</th>\n",
       "      <th>Arrival_Time</th>\n",
       "      <th>Duration</th>\n",
       "      <th>Total_Stops</th>\n",
       "      <th>Additional_Info</th>\n",
       "      <th>Price</th>\n",
       "      <th>Date</th>\n",
       "      <th>Month</th>\n",
       "      <th>Year</th>\n",
       "    </tr>\n",
       "  </thead>\n",
       "  <tbody>\n",
       "    <tr>\n",
       "      <th>0</th>\n",
       "      <td>IndiGo</td>\n",
       "      <td>Banglore</td>\n",
       "      <td>New Delhi</td>\n",
       "      <td>BLR → DEL</td>\n",
       "      <td>22:20</td>\n",
       "      <td>01:10 22 Mar</td>\n",
       "      <td>2h 50m</td>\n",
       "      <td>non-stop</td>\n",
       "      <td>No info</td>\n",
       "      <td>3897.0</td>\n",
       "      <td>24</td>\n",
       "      <td>3</td>\n",
       "      <td>2019</td>\n",
       "    </tr>\n",
       "    <tr>\n",
       "      <th>1</th>\n",
       "      <td>Air India</td>\n",
       "      <td>Kolkata</td>\n",
       "      <td>Banglore</td>\n",
       "      <td>CCU → IXR → BBI → BLR</td>\n",
       "      <td>05:50</td>\n",
       "      <td>13:15</td>\n",
       "      <td>7h 25m</td>\n",
       "      <td>2 stops</td>\n",
       "      <td>No info</td>\n",
       "      <td>7662.0</td>\n",
       "      <td>1</td>\n",
       "      <td>5</td>\n",
       "      <td>2019</td>\n",
       "    </tr>\n",
       "    <tr>\n",
       "      <th>2</th>\n",
       "      <td>Jet Airways</td>\n",
       "      <td>Delhi</td>\n",
       "      <td>Cochin</td>\n",
       "      <td>DEL → LKO → BOM → COK</td>\n",
       "      <td>09:25</td>\n",
       "      <td>04:25 10 Jun</td>\n",
       "      <td>19h</td>\n",
       "      <td>2 stops</td>\n",
       "      <td>No info</td>\n",
       "      <td>13882.0</td>\n",
       "      <td>9</td>\n",
       "      <td>6</td>\n",
       "      <td>2019</td>\n",
       "    </tr>\n",
       "    <tr>\n",
       "      <th>3</th>\n",
       "      <td>IndiGo</td>\n",
       "      <td>Kolkata</td>\n",
       "      <td>Banglore</td>\n",
       "      <td>CCU → NAG → BLR</td>\n",
       "      <td>18:05</td>\n",
       "      <td>23:30</td>\n",
       "      <td>5h 25m</td>\n",
       "      <td>1 stop</td>\n",
       "      <td>No info</td>\n",
       "      <td>6218.0</td>\n",
       "      <td>12</td>\n",
       "      <td>5</td>\n",
       "      <td>2019</td>\n",
       "    </tr>\n",
       "    <tr>\n",
       "      <th>4</th>\n",
       "      <td>IndiGo</td>\n",
       "      <td>Banglore</td>\n",
       "      <td>New Delhi</td>\n",
       "      <td>BLR → NAG → DEL</td>\n",
       "      <td>16:50</td>\n",
       "      <td>21:35</td>\n",
       "      <td>4h 45m</td>\n",
       "      <td>1 stop</td>\n",
       "      <td>No info</td>\n",
       "      <td>13302.0</td>\n",
       "      <td>1</td>\n",
       "      <td>3</td>\n",
       "      <td>2019</td>\n",
       "    </tr>\n",
       "  </tbody>\n",
       "</table>\n",
       "</div>"
      ],
      "text/plain": [
       "       Airline    Source Destination                  Route Dep_Time  \\\n",
       "0       IndiGo  Banglore   New Delhi              BLR → DEL    22:20   \n",
       "1    Air India   Kolkata    Banglore  CCU → IXR → BBI → BLR    05:50   \n",
       "2  Jet Airways     Delhi      Cochin  DEL → LKO → BOM → COK    09:25   \n",
       "3       IndiGo   Kolkata    Banglore        CCU → NAG → BLR    18:05   \n",
       "4       IndiGo  Banglore   New Delhi        BLR → NAG → DEL    16:50   \n",
       "\n",
       "   Arrival_Time Duration Total_Stops Additional_Info    Price  Date  Month  \\\n",
       "0  01:10 22 Mar   2h 50m    non-stop         No info   3897.0    24      3   \n",
       "1         13:15   7h 25m     2 stops         No info   7662.0     1      5   \n",
       "2  04:25 10 Jun      19h     2 stops         No info  13882.0     9      6   \n",
       "3         23:30   5h 25m      1 stop         No info   6218.0    12      5   \n",
       "4         21:35   4h 45m      1 stop         No info  13302.0     1      3   \n",
       "\n",
       "   Year  \n",
       "0  2019  \n",
       "1  2019  \n",
       "2  2019  \n",
       "3  2019  \n",
       "4  2019  "
      ]
     },
     "execution_count": 16,
     "metadata": {},
     "output_type": "execute_result"
    }
   ],
   "source": [
    "final_df.head()"
   ]
  },
  {
   "cell_type": "markdown",
   "id": "cb093963",
   "metadata": {
    "papermill": {
     "duration": 0.018644,
     "end_time": "2022-11-24T09:58:44.519890",
     "exception": false,
     "start_time": "2022-11-24T09:58:44.501246",
     "status": "completed"
    },
    "tags": []
   },
   "source": [
    "You can use this method or using lambda method both are same"
   ]
  },
  {
   "cell_type": "code",
   "execution_count": 17,
   "id": "4e7a23d8",
   "metadata": {
    "execution": {
     "iopub.execute_input": "2022-11-24T09:58:44.559298Z",
     "iopub.status.busy": "2022-11-24T09:58:44.558868Z",
     "iopub.status.idle": "2022-11-24T09:58:44.587070Z",
     "shell.execute_reply": "2022-11-24T09:58:44.586044Z"
    },
    "papermill": {
     "duration": 0.050414,
     "end_time": "2022-11-24T09:58:44.589080",
     "exception": false,
     "start_time": "2022-11-24T09:58:44.538666",
     "status": "completed"
    },
    "tags": []
   },
   "outputs": [
    {
     "data": {
      "text/plain": [
       "0       01:10\n",
       "1       13:15\n",
       "2       04:25\n",
       "3       23:30\n",
       "4       21:35\n",
       "        ...  \n",
       "2666    20:25\n",
       "2667    16:55\n",
       "2668    04:25\n",
       "2669    19:15\n",
       "2670    19:15\n",
       "Name: Arrival_Time, Length: 13354, dtype: object"
      ]
     },
     "execution_count": 17,
     "metadata": {},
     "output_type": "execute_result"
    }
   ],
   "source": [
    "final_df['Arrival_Time'].str.split(' ').str[0]"
   ]
  },
  {
   "cell_type": "code",
   "execution_count": 18,
   "id": "b75f10d4",
   "metadata": {
    "execution": {
     "iopub.execute_input": "2022-11-24T09:58:44.628784Z",
     "iopub.status.busy": "2022-11-24T09:58:44.628350Z",
     "iopub.status.idle": "2022-11-24T09:58:44.640150Z",
     "shell.execute_reply": "2022-11-24T09:58:44.638973Z"
    },
    "papermill": {
     "duration": 0.034243,
     "end_time": "2022-11-24T09:58:44.642373",
     "exception": false,
     "start_time": "2022-11-24T09:58:44.608130",
     "status": "completed"
    },
    "tags": []
   },
   "outputs": [],
   "source": [
    "final_df['Arrival_Time']=final_df['Arrival_Time'].apply(lambda x:x.split(' ')[0])"
   ]
  },
  {
   "cell_type": "code",
   "execution_count": 19,
   "id": "a03e3d54",
   "metadata": {
    "execution": {
     "iopub.execute_input": "2022-11-24T09:58:44.682143Z",
     "iopub.status.busy": "2022-11-24T09:58:44.681734Z",
     "iopub.status.idle": "2022-11-24T09:58:44.726941Z",
     "shell.execute_reply": "2022-11-24T09:58:44.725823Z"
    },
    "papermill": {
     "duration": 0.068017,
     "end_time": "2022-11-24T09:58:44.729360",
     "exception": false,
     "start_time": "2022-11-24T09:58:44.661343",
     "status": "completed"
    },
    "tags": []
   },
   "outputs": [],
   "source": [
    "final_df['Arrival_hour']=final_df['Arrival_Time'].str.split(':').str[0]\n",
    "final_df['Arrival_min']=final_df['Arrival_Time'].str.split(':').str[1]"
   ]
  },
  {
   "cell_type": "code",
   "execution_count": 20,
   "id": "f7c74790",
   "metadata": {
    "execution": {
     "iopub.execute_input": "2022-11-24T09:58:44.768611Z",
     "iopub.status.busy": "2022-11-24T09:58:44.768149Z",
     "iopub.status.idle": "2022-11-24T09:58:44.786846Z",
     "shell.execute_reply": "2022-11-24T09:58:44.785614Z"
    },
    "papermill": {
     "duration": 0.041019,
     "end_time": "2022-11-24T09:58:44.789138",
     "exception": false,
     "start_time": "2022-11-24T09:58:44.748119",
     "status": "completed"
    },
    "tags": []
   },
   "outputs": [
    {
     "data": {
      "text/html": [
       "<div>\n",
       "<style scoped>\n",
       "    .dataframe tbody tr th:only-of-type {\n",
       "        vertical-align: middle;\n",
       "    }\n",
       "\n",
       "    .dataframe tbody tr th {\n",
       "        vertical-align: top;\n",
       "    }\n",
       "\n",
       "    .dataframe thead th {\n",
       "        text-align: right;\n",
       "    }\n",
       "</style>\n",
       "<table border=\"1\" class=\"dataframe\">\n",
       "  <thead>\n",
       "    <tr style=\"text-align: right;\">\n",
       "      <th></th>\n",
       "      <th>Airline</th>\n",
       "      <th>Source</th>\n",
       "      <th>Destination</th>\n",
       "      <th>Route</th>\n",
       "      <th>Dep_Time</th>\n",
       "      <th>Arrival_Time</th>\n",
       "      <th>Duration</th>\n",
       "      <th>Total_Stops</th>\n",
       "      <th>Additional_Info</th>\n",
       "      <th>Price</th>\n",
       "      <th>Date</th>\n",
       "      <th>Month</th>\n",
       "      <th>Year</th>\n",
       "      <th>Arrival_hour</th>\n",
       "      <th>Arrival_min</th>\n",
       "    </tr>\n",
       "  </thead>\n",
       "  <tbody>\n",
       "    <tr>\n",
       "      <th>0</th>\n",
       "      <td>IndiGo</td>\n",
       "      <td>Banglore</td>\n",
       "      <td>New Delhi</td>\n",
       "      <td>BLR → DEL</td>\n",
       "      <td>22:20</td>\n",
       "      <td>01:10</td>\n",
       "      <td>2h 50m</td>\n",
       "      <td>non-stop</td>\n",
       "      <td>No info</td>\n",
       "      <td>3897.0</td>\n",
       "      <td>24</td>\n",
       "      <td>3</td>\n",
       "      <td>2019</td>\n",
       "      <td>01</td>\n",
       "      <td>10</td>\n",
       "    </tr>\n",
       "  </tbody>\n",
       "</table>\n",
       "</div>"
      ],
      "text/plain": [
       "  Airline    Source Destination      Route Dep_Time Arrival_Time Duration  \\\n",
       "0  IndiGo  Banglore   New Delhi  BLR → DEL    22:20        01:10   2h 50m   \n",
       "\n",
       "  Total_Stops Additional_Info   Price  Date  Month  Year Arrival_hour  \\\n",
       "0    non-stop         No info  3897.0    24      3  2019           01   \n",
       "\n",
       "  Arrival_min  \n",
       "0          10  "
      ]
     },
     "execution_count": 20,
     "metadata": {},
     "output_type": "execute_result"
    }
   ],
   "source": [
    "final_df.head(1)"
   ]
  },
  {
   "cell_type": "code",
   "execution_count": 21,
   "id": "2e6b2de9",
   "metadata": {
    "execution": {
     "iopub.execute_input": "2022-11-24T09:58:44.829622Z",
     "iopub.status.busy": "2022-11-24T09:58:44.829182Z",
     "iopub.status.idle": "2022-11-24T09:58:44.837601Z",
     "shell.execute_reply": "2022-11-24T09:58:44.836669Z"
    },
    "papermill": {
     "duration": 0.031103,
     "end_time": "2022-11-24T09:58:44.839835",
     "exception": false,
     "start_time": "2022-11-24T09:58:44.808732",
     "status": "completed"
    },
    "tags": []
   },
   "outputs": [],
   "source": [
    "final_df['Arrival_hour']=final_df['Arrival_hour'].astype(int)\n",
    "final_df['Arrival_min']=final_df['Arrival_hour'].astype(int)"
   ]
  },
  {
   "cell_type": "code",
   "execution_count": 22,
   "id": "7b8effe7",
   "metadata": {
    "execution": {
     "iopub.execute_input": "2022-11-24T09:58:44.879984Z",
     "iopub.status.busy": "2022-11-24T09:58:44.879580Z",
     "iopub.status.idle": "2022-11-24T09:58:44.888226Z",
     "shell.execute_reply": "2022-11-24T09:58:44.887177Z"
    },
    "papermill": {
     "duration": 0.031896,
     "end_time": "2022-11-24T09:58:44.890580",
     "exception": false,
     "start_time": "2022-11-24T09:58:44.858684",
     "status": "completed"
    },
    "tags": []
   },
   "outputs": [],
   "source": [
    "\n",
    "final_df.drop('Arrival_Time',axis=1,inplace=True)"
   ]
  },
  {
   "cell_type": "code",
   "execution_count": 23,
   "id": "29261184",
   "metadata": {
    "execution": {
     "iopub.execute_input": "2022-11-24T09:58:44.930584Z",
     "iopub.status.busy": "2022-11-24T09:58:44.930183Z",
     "iopub.status.idle": "2022-11-24T09:58:44.948261Z",
     "shell.execute_reply": "2022-11-24T09:58:44.947181Z"
    },
    "papermill": {
     "duration": 0.0406,
     "end_time": "2022-11-24T09:58:44.950370",
     "exception": false,
     "start_time": "2022-11-24T09:58:44.909770",
     "status": "completed"
    },
    "tags": []
   },
   "outputs": [
    {
     "data": {
      "text/html": [
       "<div>\n",
       "<style scoped>\n",
       "    .dataframe tbody tr th:only-of-type {\n",
       "        vertical-align: middle;\n",
       "    }\n",
       "\n",
       "    .dataframe tbody tr th {\n",
       "        vertical-align: top;\n",
       "    }\n",
       "\n",
       "    .dataframe thead th {\n",
       "        text-align: right;\n",
       "    }\n",
       "</style>\n",
       "<table border=\"1\" class=\"dataframe\">\n",
       "  <thead>\n",
       "    <tr style=\"text-align: right;\">\n",
       "      <th></th>\n",
       "      <th>Airline</th>\n",
       "      <th>Source</th>\n",
       "      <th>Destination</th>\n",
       "      <th>Route</th>\n",
       "      <th>Dep_Time</th>\n",
       "      <th>Duration</th>\n",
       "      <th>Total_Stops</th>\n",
       "      <th>Additional_Info</th>\n",
       "      <th>Price</th>\n",
       "      <th>Date</th>\n",
       "      <th>Month</th>\n",
       "      <th>Year</th>\n",
       "      <th>Arrival_hour</th>\n",
       "      <th>Arrival_min</th>\n",
       "    </tr>\n",
       "  </thead>\n",
       "  <tbody>\n",
       "    <tr>\n",
       "      <th>0</th>\n",
       "      <td>IndiGo</td>\n",
       "      <td>Banglore</td>\n",
       "      <td>New Delhi</td>\n",
       "      <td>BLR → DEL</td>\n",
       "      <td>22:20</td>\n",
       "      <td>2h 50m</td>\n",
       "      <td>non-stop</td>\n",
       "      <td>No info</td>\n",
       "      <td>3897.0</td>\n",
       "      <td>24</td>\n",
       "      <td>3</td>\n",
       "      <td>2019</td>\n",
       "      <td>1</td>\n",
       "      <td>1</td>\n",
       "    </tr>\n",
       "    <tr>\n",
       "      <th>1</th>\n",
       "      <td>Air India</td>\n",
       "      <td>Kolkata</td>\n",
       "      <td>Banglore</td>\n",
       "      <td>CCU → IXR → BBI → BLR</td>\n",
       "      <td>05:50</td>\n",
       "      <td>7h 25m</td>\n",
       "      <td>2 stops</td>\n",
       "      <td>No info</td>\n",
       "      <td>7662.0</td>\n",
       "      <td>1</td>\n",
       "      <td>5</td>\n",
       "      <td>2019</td>\n",
       "      <td>13</td>\n",
       "      <td>13</td>\n",
       "    </tr>\n",
       "    <tr>\n",
       "      <th>2</th>\n",
       "      <td>Jet Airways</td>\n",
       "      <td>Delhi</td>\n",
       "      <td>Cochin</td>\n",
       "      <td>DEL → LKO → BOM → COK</td>\n",
       "      <td>09:25</td>\n",
       "      <td>19h</td>\n",
       "      <td>2 stops</td>\n",
       "      <td>No info</td>\n",
       "      <td>13882.0</td>\n",
       "      <td>9</td>\n",
       "      <td>6</td>\n",
       "      <td>2019</td>\n",
       "      <td>4</td>\n",
       "      <td>4</td>\n",
       "    </tr>\n",
       "    <tr>\n",
       "      <th>3</th>\n",
       "      <td>IndiGo</td>\n",
       "      <td>Kolkata</td>\n",
       "      <td>Banglore</td>\n",
       "      <td>CCU → NAG → BLR</td>\n",
       "      <td>18:05</td>\n",
       "      <td>5h 25m</td>\n",
       "      <td>1 stop</td>\n",
       "      <td>No info</td>\n",
       "      <td>6218.0</td>\n",
       "      <td>12</td>\n",
       "      <td>5</td>\n",
       "      <td>2019</td>\n",
       "      <td>23</td>\n",
       "      <td>23</td>\n",
       "    </tr>\n",
       "    <tr>\n",
       "      <th>4</th>\n",
       "      <td>IndiGo</td>\n",
       "      <td>Banglore</td>\n",
       "      <td>New Delhi</td>\n",
       "      <td>BLR → NAG → DEL</td>\n",
       "      <td>16:50</td>\n",
       "      <td>4h 45m</td>\n",
       "      <td>1 stop</td>\n",
       "      <td>No info</td>\n",
       "      <td>13302.0</td>\n",
       "      <td>1</td>\n",
       "      <td>3</td>\n",
       "      <td>2019</td>\n",
       "      <td>21</td>\n",
       "      <td>21</td>\n",
       "    </tr>\n",
       "  </tbody>\n",
       "</table>\n",
       "</div>"
      ],
      "text/plain": [
       "       Airline    Source Destination                  Route Dep_Time Duration  \\\n",
       "0       IndiGo  Banglore   New Delhi              BLR → DEL    22:20   2h 50m   \n",
       "1    Air India   Kolkata    Banglore  CCU → IXR → BBI → BLR    05:50   7h 25m   \n",
       "2  Jet Airways     Delhi      Cochin  DEL → LKO → BOM → COK    09:25      19h   \n",
       "3       IndiGo   Kolkata    Banglore        CCU → NAG → BLR    18:05   5h 25m   \n",
       "4       IndiGo  Banglore   New Delhi        BLR → NAG → DEL    16:50   4h 45m   \n",
       "\n",
       "  Total_Stops Additional_Info    Price  Date  Month  Year  Arrival_hour  \\\n",
       "0    non-stop         No info   3897.0    24      3  2019             1   \n",
       "1     2 stops         No info   7662.0     1      5  2019            13   \n",
       "2     2 stops         No info  13882.0     9      6  2019             4   \n",
       "3      1 stop         No info   6218.0    12      5  2019            23   \n",
       "4      1 stop         No info  13302.0     1      3  2019            21   \n",
       "\n",
       "   Arrival_min  \n",
       "0            1  \n",
       "1           13  \n",
       "2            4  \n",
       "3           23  \n",
       "4           21  "
      ]
     },
     "execution_count": 23,
     "metadata": {},
     "output_type": "execute_result"
    }
   ],
   "source": [
    "final_df.head()"
   ]
  },
  {
   "cell_type": "code",
   "execution_count": 24,
   "id": "7bd1b22f",
   "metadata": {
    "execution": {
     "iopub.execute_input": "2022-11-24T09:58:44.990791Z",
     "iopub.status.busy": "2022-11-24T09:58:44.990359Z",
     "iopub.status.idle": "2022-11-24T09:58:45.010136Z",
     "shell.execute_reply": "2022-11-24T09:58:45.008596Z"
    },
    "papermill": {
     "duration": 0.043016,
     "end_time": "2022-11-24T09:58:45.012615",
     "exception": false,
     "start_time": "2022-11-24T09:58:44.969599",
     "status": "completed"
    },
    "tags": []
   },
   "outputs": [
    {
     "name": "stdout",
     "output_type": "stream",
     "text": [
      "<class 'pandas.core.frame.DataFrame'>\n",
      "Int64Index: 13354 entries, 0 to 2670\n",
      "Data columns (total 14 columns):\n",
      " #   Column           Non-Null Count  Dtype  \n",
      "---  ------           --------------  -----  \n",
      " 0   Airline          13354 non-null  object \n",
      " 1   Source           13354 non-null  object \n",
      " 2   Destination      13354 non-null  object \n",
      " 3   Route            13353 non-null  object \n",
      " 4   Dep_Time         13354 non-null  object \n",
      " 5   Duration         13354 non-null  object \n",
      " 6   Total_Stops      13353 non-null  object \n",
      " 7   Additional_Info  13354 non-null  object \n",
      " 8   Price            10683 non-null  float64\n",
      " 9   Date             13354 non-null  int64  \n",
      " 10  Month            13354 non-null  int64  \n",
      " 11  Year             13354 non-null  int64  \n",
      " 12  Arrival_hour     13354 non-null  int64  \n",
      " 13  Arrival_min      13354 non-null  int64  \n",
      "dtypes: float64(1), int64(5), object(8)\n",
      "memory usage: 1.5+ MB\n"
     ]
    }
   ],
   "source": [
    "final_df.info()"
   ]
  },
  {
   "cell_type": "code",
   "execution_count": 25,
   "id": "84de6e2a",
   "metadata": {
    "execution": {
     "iopub.execute_input": "2022-11-24T09:58:45.054240Z",
     "iopub.status.busy": "2022-11-24T09:58:45.053847Z",
     "iopub.status.idle": "2022-11-24T09:58:45.098054Z",
     "shell.execute_reply": "2022-11-24T09:58:45.096965Z"
    },
    "papermill": {
     "duration": 0.068514,
     "end_time": "2022-11-24T09:58:45.100647",
     "exception": false,
     "start_time": "2022-11-24T09:58:45.032133",
     "status": "completed"
    },
    "tags": []
   },
   "outputs": [],
   "source": [
    "final_df['Dept_hour']=final_df['Dep_Time'].str.split(':').str[0]\n",
    "final_df['Dept_min']=final_df['Dep_Time'].str.split(':').str[1]"
   ]
  },
  {
   "cell_type": "code",
   "execution_count": 26,
   "id": "52f9de18",
   "metadata": {
    "execution": {
     "iopub.execute_input": "2022-11-24T09:58:45.141286Z",
     "iopub.status.busy": "2022-11-24T09:58:45.140890Z",
     "iopub.status.idle": "2022-11-24T09:58:45.152255Z",
     "shell.execute_reply": "2022-11-24T09:58:45.151032Z"
    },
    "papermill": {
     "duration": 0.034434,
     "end_time": "2022-11-24T09:58:45.154545",
     "exception": false,
     "start_time": "2022-11-24T09:58:45.120111",
     "status": "completed"
    },
    "tags": []
   },
   "outputs": [],
   "source": [
    "final_df['Dept_hour']=final_df['Dept_hour'].astype(int)\n",
    "final_df['Dept_min']=final_df['Dept_min'].astype(int)"
   ]
  },
  {
   "cell_type": "code",
   "execution_count": 27,
   "id": "7cfa3ab8",
   "metadata": {
    "execution": {
     "iopub.execute_input": "2022-11-24T09:58:45.195762Z",
     "iopub.status.busy": "2022-11-24T09:58:45.194808Z",
     "iopub.status.idle": "2022-11-24T09:58:45.205237Z",
     "shell.execute_reply": "2022-11-24T09:58:45.204003Z"
    },
    "papermill": {
     "duration": 0.033298,
     "end_time": "2022-11-24T09:58:45.207372",
     "exception": false,
     "start_time": "2022-11-24T09:58:45.174074",
     "status": "completed"
    },
    "tags": []
   },
   "outputs": [],
   "source": [
    "final_df.drop('Dep_Time',axis=1,inplace=True)"
   ]
  },
  {
   "cell_type": "code",
   "execution_count": 28,
   "id": "9a640af5",
   "metadata": {
    "execution": {
     "iopub.execute_input": "2022-11-24T09:58:45.248438Z",
     "iopub.status.busy": "2022-11-24T09:58:45.248005Z",
     "iopub.status.idle": "2022-11-24T09:58:45.267006Z",
     "shell.execute_reply": "2022-11-24T09:58:45.265584Z"
    },
    "papermill": {
     "duration": 0.042125,
     "end_time": "2022-11-24T09:58:45.269232",
     "exception": false,
     "start_time": "2022-11-24T09:58:45.227107",
     "status": "completed"
    },
    "tags": []
   },
   "outputs": [
    {
     "name": "stdout",
     "output_type": "stream",
     "text": [
      "<class 'pandas.core.frame.DataFrame'>\n",
      "Int64Index: 13354 entries, 0 to 2670\n",
      "Data columns (total 15 columns):\n",
      " #   Column           Non-Null Count  Dtype  \n",
      "---  ------           --------------  -----  \n",
      " 0   Airline          13354 non-null  object \n",
      " 1   Source           13354 non-null  object \n",
      " 2   Destination      13354 non-null  object \n",
      " 3   Route            13353 non-null  object \n",
      " 4   Duration         13354 non-null  object \n",
      " 5   Total_Stops      13353 non-null  object \n",
      " 6   Additional_Info  13354 non-null  object \n",
      " 7   Price            10683 non-null  float64\n",
      " 8   Date             13354 non-null  int64  \n",
      " 9   Month            13354 non-null  int64  \n",
      " 10  Year             13354 non-null  int64  \n",
      " 11  Arrival_hour     13354 non-null  int64  \n",
      " 12  Arrival_min      13354 non-null  int64  \n",
      " 13  Dept_hour        13354 non-null  int64  \n",
      " 14  Dept_min         13354 non-null  int64  \n",
      "dtypes: float64(1), int64(7), object(7)\n",
      "memory usage: 1.6+ MB\n"
     ]
    }
   ],
   "source": [
    "final_df.info()"
   ]
  },
  {
   "cell_type": "code",
   "execution_count": 29,
   "id": "a3799ab9",
   "metadata": {
    "execution": {
     "iopub.execute_input": "2022-11-24T09:58:45.310219Z",
     "iopub.status.busy": "2022-11-24T09:58:45.309756Z",
     "iopub.status.idle": "2022-11-24T09:58:45.317232Z",
     "shell.execute_reply": "2022-11-24T09:58:45.316422Z"
    },
    "papermill": {
     "duration": 0.030209,
     "end_time": "2022-11-24T09:58:45.319201",
     "exception": false,
     "start_time": "2022-11-24T09:58:45.288992",
     "status": "completed"
    },
    "tags": []
   },
   "outputs": [
    {
     "data": {
      "text/plain": [
       "array(['non-stop', '2 stops', '1 stop', '3 stops', nan, '4 stops'],\n",
       "      dtype=object)"
      ]
     },
     "execution_count": 29,
     "metadata": {},
     "output_type": "execute_result"
    }
   ],
   "source": [
    "final_df['Total_Stops'].unique()"
   ]
  },
  {
   "cell_type": "code",
   "execution_count": 30,
   "id": "9d0e7ff1",
   "metadata": {
    "execution": {
     "iopub.execute_input": "2022-11-24T09:58:45.360878Z",
     "iopub.status.busy": "2022-11-24T09:58:45.360471Z",
     "iopub.status.idle": "2022-11-24T09:58:45.369761Z",
     "shell.execute_reply": "2022-11-24T09:58:45.368615Z"
    },
    "papermill": {
     "duration": 0.032353,
     "end_time": "2022-11-24T09:58:45.372071",
     "exception": false,
     "start_time": "2022-11-24T09:58:45.339718",
     "status": "completed"
    },
    "tags": []
   },
   "outputs": [],
   "source": [
    "final_df['Total_Stops']=final_df['Total_Stops'].map({'non-stop':0,'1 stop':1,'2 stops':2,'3 stops':3,'4 stops':4,'nan':1})"
   ]
  },
  {
   "cell_type": "code",
   "execution_count": 31,
   "id": "4ba19af3",
   "metadata": {
    "execution": {
     "iopub.execute_input": "2022-11-24T09:58:45.414156Z",
     "iopub.status.busy": "2022-11-24T09:58:45.413737Z",
     "iopub.status.idle": "2022-11-24T09:58:45.432357Z",
     "shell.execute_reply": "2022-11-24T09:58:45.431382Z"
    },
    "papermill": {
     "duration": 0.042382,
     "end_time": "2022-11-24T09:58:45.434697",
     "exception": false,
     "start_time": "2022-11-24T09:58:45.392315",
     "status": "completed"
    },
    "tags": []
   },
   "outputs": [
    {
     "data": {
      "text/html": [
       "<div>\n",
       "<style scoped>\n",
       "    .dataframe tbody tr th:only-of-type {\n",
       "        vertical-align: middle;\n",
       "    }\n",
       "\n",
       "    .dataframe tbody tr th {\n",
       "        vertical-align: top;\n",
       "    }\n",
       "\n",
       "    .dataframe thead th {\n",
       "        text-align: right;\n",
       "    }\n",
       "</style>\n",
       "<table border=\"1\" class=\"dataframe\">\n",
       "  <thead>\n",
       "    <tr style=\"text-align: right;\">\n",
       "      <th></th>\n",
       "      <th>Airline</th>\n",
       "      <th>Source</th>\n",
       "      <th>Destination</th>\n",
       "      <th>Route</th>\n",
       "      <th>Duration</th>\n",
       "      <th>Total_Stops</th>\n",
       "      <th>Additional_Info</th>\n",
       "      <th>Price</th>\n",
       "      <th>Date</th>\n",
       "      <th>Month</th>\n",
       "      <th>Year</th>\n",
       "      <th>Arrival_hour</th>\n",
       "      <th>Arrival_min</th>\n",
       "      <th>Dept_hour</th>\n",
       "      <th>Dept_min</th>\n",
       "    </tr>\n",
       "  </thead>\n",
       "  <tbody>\n",
       "    <tr>\n",
       "      <th>9039</th>\n",
       "      <td>Air India</td>\n",
       "      <td>Delhi</td>\n",
       "      <td>Cochin</td>\n",
       "      <td>NaN</td>\n",
       "      <td>23h 40m</td>\n",
       "      <td>NaN</td>\n",
       "      <td>No info</td>\n",
       "      <td>7480.0</td>\n",
       "      <td>6</td>\n",
       "      <td>5</td>\n",
       "      <td>2019</td>\n",
       "      <td>9</td>\n",
       "      <td>9</td>\n",
       "      <td>9</td>\n",
       "      <td>45</td>\n",
       "    </tr>\n",
       "  </tbody>\n",
       "</table>\n",
       "</div>"
      ],
      "text/plain": [
       "        Airline Source Destination Route Duration  Total_Stops  \\\n",
       "9039  Air India  Delhi      Cochin   NaN  23h 40m          NaN   \n",
       "\n",
       "     Additional_Info   Price  Date  Month  Year  Arrival_hour  Arrival_min  \\\n",
       "9039         No info  7480.0     6      5  2019             9            9   \n",
       "\n",
       "      Dept_hour  Dept_min  \n",
       "9039          9        45  "
      ]
     },
     "execution_count": 31,
     "metadata": {},
     "output_type": "execute_result"
    }
   ],
   "source": [
    "final_df[final_df['Total_Stops'].isnull()]"
   ]
  },
  {
   "cell_type": "code",
   "execution_count": 32,
   "id": "c4fa83e9",
   "metadata": {
    "execution": {
     "iopub.execute_input": "2022-11-24T09:58:45.476983Z",
     "iopub.status.busy": "2022-11-24T09:58:45.476555Z",
     "iopub.status.idle": "2022-11-24T09:58:45.484606Z",
     "shell.execute_reply": "2022-11-24T09:58:45.483431Z"
    },
    "papermill": {
     "duration": 0.031775,
     "end_time": "2022-11-24T09:58:45.486808",
     "exception": false,
     "start_time": "2022-11-24T09:58:45.455033",
     "status": "completed"
    },
    "tags": []
   },
   "outputs": [],
   "source": [
    "final_df.drop('Route',axis=1,inplace=True)"
   ]
  },
  {
   "cell_type": "code",
   "execution_count": 33,
   "id": "92417560",
   "metadata": {
    "execution": {
     "iopub.execute_input": "2022-11-24T09:58:45.528569Z",
     "iopub.status.busy": "2022-11-24T09:58:45.528101Z",
     "iopub.status.idle": "2022-11-24T09:58:45.545002Z",
     "shell.execute_reply": "2022-11-24T09:58:45.544135Z"
    },
    "papermill": {
     "duration": 0.040394,
     "end_time": "2022-11-24T09:58:45.547038",
     "exception": false,
     "start_time": "2022-11-24T09:58:45.506644",
     "status": "completed"
    },
    "tags": []
   },
   "outputs": [
    {
     "data": {
      "text/html": [
       "<div>\n",
       "<style scoped>\n",
       "    .dataframe tbody tr th:only-of-type {\n",
       "        vertical-align: middle;\n",
       "    }\n",
       "\n",
       "    .dataframe tbody tr th {\n",
       "        vertical-align: top;\n",
       "    }\n",
       "\n",
       "    .dataframe thead th {\n",
       "        text-align: right;\n",
       "    }\n",
       "</style>\n",
       "<table border=\"1\" class=\"dataframe\">\n",
       "  <thead>\n",
       "    <tr style=\"text-align: right;\">\n",
       "      <th></th>\n",
       "      <th>Airline</th>\n",
       "      <th>Source</th>\n",
       "      <th>Destination</th>\n",
       "      <th>Duration</th>\n",
       "      <th>Total_Stops</th>\n",
       "      <th>Additional_Info</th>\n",
       "      <th>Price</th>\n",
       "      <th>Date</th>\n",
       "      <th>Month</th>\n",
       "      <th>Year</th>\n",
       "      <th>Arrival_hour</th>\n",
       "      <th>Arrival_min</th>\n",
       "      <th>Dept_hour</th>\n",
       "      <th>Dept_min</th>\n",
       "    </tr>\n",
       "  </thead>\n",
       "  <tbody>\n",
       "    <tr>\n",
       "      <th>0</th>\n",
       "      <td>IndiGo</td>\n",
       "      <td>Banglore</td>\n",
       "      <td>New Delhi</td>\n",
       "      <td>2h 50m</td>\n",
       "      <td>0.0</td>\n",
       "      <td>No info</td>\n",
       "      <td>3897.0</td>\n",
       "      <td>24</td>\n",
       "      <td>3</td>\n",
       "      <td>2019</td>\n",
       "      <td>1</td>\n",
       "      <td>1</td>\n",
       "      <td>22</td>\n",
       "      <td>20</td>\n",
       "    </tr>\n",
       "    <tr>\n",
       "      <th>1</th>\n",
       "      <td>Air India</td>\n",
       "      <td>Kolkata</td>\n",
       "      <td>Banglore</td>\n",
       "      <td>7h 25m</td>\n",
       "      <td>2.0</td>\n",
       "      <td>No info</td>\n",
       "      <td>7662.0</td>\n",
       "      <td>1</td>\n",
       "      <td>5</td>\n",
       "      <td>2019</td>\n",
       "      <td>13</td>\n",
       "      <td>13</td>\n",
       "      <td>5</td>\n",
       "      <td>50</td>\n",
       "    </tr>\n",
       "    <tr>\n",
       "      <th>2</th>\n",
       "      <td>Jet Airways</td>\n",
       "      <td>Delhi</td>\n",
       "      <td>Cochin</td>\n",
       "      <td>19h</td>\n",
       "      <td>2.0</td>\n",
       "      <td>No info</td>\n",
       "      <td>13882.0</td>\n",
       "      <td>9</td>\n",
       "      <td>6</td>\n",
       "      <td>2019</td>\n",
       "      <td>4</td>\n",
       "      <td>4</td>\n",
       "      <td>9</td>\n",
       "      <td>25</td>\n",
       "    </tr>\n",
       "    <tr>\n",
       "      <th>3</th>\n",
       "      <td>IndiGo</td>\n",
       "      <td>Kolkata</td>\n",
       "      <td>Banglore</td>\n",
       "      <td>5h 25m</td>\n",
       "      <td>1.0</td>\n",
       "      <td>No info</td>\n",
       "      <td>6218.0</td>\n",
       "      <td>12</td>\n",
       "      <td>5</td>\n",
       "      <td>2019</td>\n",
       "      <td>23</td>\n",
       "      <td>23</td>\n",
       "      <td>18</td>\n",
       "      <td>5</td>\n",
       "    </tr>\n",
       "    <tr>\n",
       "      <th>4</th>\n",
       "      <td>IndiGo</td>\n",
       "      <td>Banglore</td>\n",
       "      <td>New Delhi</td>\n",
       "      <td>4h 45m</td>\n",
       "      <td>1.0</td>\n",
       "      <td>No info</td>\n",
       "      <td>13302.0</td>\n",
       "      <td>1</td>\n",
       "      <td>3</td>\n",
       "      <td>2019</td>\n",
       "      <td>21</td>\n",
       "      <td>21</td>\n",
       "      <td>16</td>\n",
       "      <td>50</td>\n",
       "    </tr>\n",
       "  </tbody>\n",
       "</table>\n",
       "</div>"
      ],
      "text/plain": [
       "       Airline    Source Destination Duration  Total_Stops Additional_Info  \\\n",
       "0       IndiGo  Banglore   New Delhi   2h 50m          0.0         No info   \n",
       "1    Air India   Kolkata    Banglore   7h 25m          2.0         No info   \n",
       "2  Jet Airways     Delhi      Cochin      19h          2.0         No info   \n",
       "3       IndiGo   Kolkata    Banglore   5h 25m          1.0         No info   \n",
       "4       IndiGo  Banglore   New Delhi   4h 45m          1.0         No info   \n",
       "\n",
       "     Price  Date  Month  Year  Arrival_hour  Arrival_min  Dept_hour  Dept_min  \n",
       "0   3897.0    24      3  2019             1            1         22        20  \n",
       "1   7662.0     1      5  2019            13           13          5        50  \n",
       "2  13882.0     9      6  2019             4            4          9        25  \n",
       "3   6218.0    12      5  2019            23           23         18         5  \n",
       "4  13302.0     1      3  2019            21           21         16        50  "
      ]
     },
     "execution_count": 33,
     "metadata": {},
     "output_type": "execute_result"
    }
   ],
   "source": [
    "final_df.head()"
   ]
  },
  {
   "cell_type": "code",
   "execution_count": 34,
   "id": "d224b45d",
   "metadata": {
    "execution": {
     "iopub.execute_input": "2022-11-24T09:58:45.590286Z",
     "iopub.status.busy": "2022-11-24T09:58:45.589870Z",
     "iopub.status.idle": "2022-11-24T09:58:45.598470Z",
     "shell.execute_reply": "2022-11-24T09:58:45.597287Z"
    },
    "papermill": {
     "duration": 0.033304,
     "end_time": "2022-11-24T09:58:45.600615",
     "exception": false,
     "start_time": "2022-11-24T09:58:45.567311",
     "status": "completed"
    },
    "tags": []
   },
   "outputs": [
    {
     "data": {
      "text/plain": [
       "array(['No info', 'In-flight meal not included',\n",
       "       'No check-in baggage included', '1 Short layover', 'No Info',\n",
       "       '1 Long layover', 'Change airports', 'Business class',\n",
       "       'Red-eye flight', '2 Long layover'], dtype=object)"
      ]
     },
     "execution_count": 34,
     "metadata": {},
     "output_type": "execute_result"
    }
   ],
   "source": [
    "final_df['Additional_Info'].unique()"
   ]
  },
  {
   "cell_type": "code",
   "execution_count": 35,
   "id": "ad8e8538",
   "metadata": {
    "execution": {
     "iopub.execute_input": "2022-11-24T09:58:45.643242Z",
     "iopub.status.busy": "2022-11-24T09:58:45.642750Z",
     "iopub.status.idle": "2022-11-24T09:58:45.691868Z",
     "shell.execute_reply": "2022-11-24T09:58:45.690611Z"
    },
    "papermill": {
     "duration": 0.07332,
     "end_time": "2022-11-24T09:58:45.694298",
     "exception": false,
     "start_time": "2022-11-24T09:58:45.620978",
     "status": "completed"
    },
    "tags": []
   },
   "outputs": [
    {
     "data": {
      "text/plain": [
       "0        2\n",
       "1        7\n",
       "2       19\n",
       "3        5\n",
       "4        4\n",
       "        ..\n",
       "2666    23\n",
       "2667     2\n",
       "2668     6\n",
       "2669    15\n",
       "2670    14\n",
       "Name: Duration, Length: 13354, dtype: object"
      ]
     },
     "execution_count": 35,
     "metadata": {},
     "output_type": "execute_result"
    }
   ],
   "source": [
    "final_df['Duration'].str.split(' ').str[0].str.split('h').str[0]"
   ]
  },
  {
   "cell_type": "code",
   "execution_count": 36,
   "id": "30b95de9",
   "metadata": {
    "execution": {
     "iopub.execute_input": "2022-11-24T09:58:45.736994Z",
     "iopub.status.busy": "2022-11-24T09:58:45.736170Z",
     "iopub.status.idle": "2022-11-24T09:58:45.901525Z",
     "shell.execute_reply": "2022-11-24T09:58:45.900676Z"
    },
    "papermill": {
     "duration": 0.189326,
     "end_time": "2022-11-24T09:58:45.903999",
     "exception": false,
     "start_time": "2022-11-24T09:58:45.714673",
     "status": "completed"
    },
    "tags": []
   },
   "outputs": [],
   "source": [
    "final_df['duration_hour']=final_df['Duration'].str.split(' ').str[0].str.split('h').str[0]\n"
   ]
  },
  {
   "cell_type": "code",
   "execution_count": 37,
   "id": "b97aeca8",
   "metadata": {
    "execution": {
     "iopub.execute_input": "2022-11-24T09:58:45.946889Z",
     "iopub.status.busy": "2022-11-24T09:58:45.945767Z",
     "iopub.status.idle": "2022-11-24T09:58:45.967810Z",
     "shell.execute_reply": "2022-11-24T09:58:45.966593Z"
    },
    "papermill": {
     "duration": 0.04592,
     "end_time": "2022-11-24T09:58:45.970275",
     "exception": false,
     "start_time": "2022-11-24T09:58:45.924355",
     "status": "completed"
    },
    "tags": []
   },
   "outputs": [
    {
     "data": {
      "text/html": [
       "<div>\n",
       "<style scoped>\n",
       "    .dataframe tbody tr th:only-of-type {\n",
       "        vertical-align: middle;\n",
       "    }\n",
       "\n",
       "    .dataframe tbody tr th {\n",
       "        vertical-align: top;\n",
       "    }\n",
       "\n",
       "    .dataframe thead th {\n",
       "        text-align: right;\n",
       "    }\n",
       "</style>\n",
       "<table border=\"1\" class=\"dataframe\">\n",
       "  <thead>\n",
       "    <tr style=\"text-align: right;\">\n",
       "      <th></th>\n",
       "      <th>Airline</th>\n",
       "      <th>Source</th>\n",
       "      <th>Destination</th>\n",
       "      <th>Duration</th>\n",
       "      <th>Total_Stops</th>\n",
       "      <th>Additional_Info</th>\n",
       "      <th>Price</th>\n",
       "      <th>Date</th>\n",
       "      <th>Month</th>\n",
       "      <th>Year</th>\n",
       "      <th>Arrival_hour</th>\n",
       "      <th>Arrival_min</th>\n",
       "      <th>Dept_hour</th>\n",
       "      <th>Dept_min</th>\n",
       "      <th>duration_hour</th>\n",
       "    </tr>\n",
       "  </thead>\n",
       "  <tbody>\n",
       "    <tr>\n",
       "      <th>6474</th>\n",
       "      <td>Air India</td>\n",
       "      <td>Mumbai</td>\n",
       "      <td>Hyderabad</td>\n",
       "      <td>5m</td>\n",
       "      <td>2.0</td>\n",
       "      <td>No info</td>\n",
       "      <td>17327.0</td>\n",
       "      <td>6</td>\n",
       "      <td>3</td>\n",
       "      <td>2019</td>\n",
       "      <td>16</td>\n",
       "      <td>16</td>\n",
       "      <td>16</td>\n",
       "      <td>50</td>\n",
       "      <td>5m</td>\n",
       "    </tr>\n",
       "    <tr>\n",
       "      <th>2660</th>\n",
       "      <td>Air India</td>\n",
       "      <td>Mumbai</td>\n",
       "      <td>Hyderabad</td>\n",
       "      <td>5m</td>\n",
       "      <td>2.0</td>\n",
       "      <td>No info</td>\n",
       "      <td>NaN</td>\n",
       "      <td>12</td>\n",
       "      <td>3</td>\n",
       "      <td>2019</td>\n",
       "      <td>16</td>\n",
       "      <td>16</td>\n",
       "      <td>16</td>\n",
       "      <td>50</td>\n",
       "      <td>5m</td>\n",
       "    </tr>\n",
       "  </tbody>\n",
       "</table>\n",
       "</div>"
      ],
      "text/plain": [
       "        Airline  Source Destination Duration  Total_Stops Additional_Info  \\\n",
       "6474  Air India  Mumbai   Hyderabad       5m          2.0         No info   \n",
       "2660  Air India  Mumbai   Hyderabad       5m          2.0         No info   \n",
       "\n",
       "        Price  Date  Month  Year  Arrival_hour  Arrival_min  Dept_hour  \\\n",
       "6474  17327.0     6      3  2019            16           16         16   \n",
       "2660      NaN    12      3  2019            16           16         16   \n",
       "\n",
       "      Dept_min duration_hour  \n",
       "6474        50            5m  \n",
       "2660        50            5m  "
      ]
     },
     "execution_count": 37,
     "metadata": {},
     "output_type": "execute_result"
    }
   ],
   "source": [
    "final_df[final_df['duration_hour']=='5m']"
   ]
  },
  {
   "cell_type": "code",
   "execution_count": 38,
   "id": "2cfa6038",
   "metadata": {
    "execution": {
     "iopub.execute_input": "2022-11-24T09:58:46.013828Z",
     "iopub.status.busy": "2022-11-24T09:58:46.013022Z",
     "iopub.status.idle": "2022-11-24T09:58:46.031953Z",
     "shell.execute_reply": "2022-11-24T09:58:46.030805Z"
    },
    "papermill": {
     "duration": 0.043628,
     "end_time": "2022-11-24T09:58:46.034622",
     "exception": false,
     "start_time": "2022-11-24T09:58:45.990994",
     "status": "completed"
    },
    "tags": []
   },
   "outputs": [],
   "source": [
    "final_df.drop(6474,axis=0,inplace=True)\n",
    "final_df.drop(2660,axis=0,inplace=True)"
   ]
  },
  {
   "cell_type": "code",
   "execution_count": 39,
   "id": "945277eb",
   "metadata": {
    "execution": {
     "iopub.execute_input": "2022-11-24T09:58:46.078939Z",
     "iopub.status.busy": "2022-11-24T09:58:46.077958Z",
     "iopub.status.idle": "2022-11-24T09:58:46.088161Z",
     "shell.execute_reply": "2022-11-24T09:58:46.087077Z"
    },
    "papermill": {
     "duration": 0.03555,
     "end_time": "2022-11-24T09:58:46.090798",
     "exception": false,
     "start_time": "2022-11-24T09:58:46.055248",
     "status": "completed"
    },
    "tags": []
   },
   "outputs": [],
   "source": [
    "final_df['duration_hour']=final_df['duration_hour'].astype('int')\n"
   ]
  },
  {
   "cell_type": "code",
   "execution_count": 40,
   "id": "1420affe",
   "metadata": {
    "execution": {
     "iopub.execute_input": "2022-11-24T09:58:46.134618Z",
     "iopub.status.busy": "2022-11-24T09:58:46.133867Z",
     "iopub.status.idle": "2022-11-24T09:58:46.141565Z",
     "shell.execute_reply": "2022-11-24T09:58:46.140593Z"
    },
    "papermill": {
     "duration": 0.032102,
     "end_time": "2022-11-24T09:58:46.143936",
     "exception": false,
     "start_time": "2022-11-24T09:58:46.111834",
     "status": "completed"
    },
    "tags": []
   },
   "outputs": [],
   "source": [
    "final_df.drop('Duration',axis=1,inplace=True)\n"
   ]
  },
  {
   "cell_type": "code",
   "execution_count": 41,
   "id": "e704a0db",
   "metadata": {
    "execution": {
     "iopub.execute_input": "2022-11-24T09:58:46.188536Z",
     "iopub.status.busy": "2022-11-24T09:58:46.187795Z",
     "iopub.status.idle": "2022-11-24T09:58:46.204552Z",
     "shell.execute_reply": "2022-11-24T09:58:46.203542Z"
    },
    "papermill": {
     "duration": 0.041506,
     "end_time": "2022-11-24T09:58:46.206764",
     "exception": false,
     "start_time": "2022-11-24T09:58:46.165258",
     "status": "completed"
    },
    "tags": []
   },
   "outputs": [
    {
     "data": {
      "text/html": [
       "<div>\n",
       "<style scoped>\n",
       "    .dataframe tbody tr th:only-of-type {\n",
       "        vertical-align: middle;\n",
       "    }\n",
       "\n",
       "    .dataframe tbody tr th {\n",
       "        vertical-align: top;\n",
       "    }\n",
       "\n",
       "    .dataframe thead th {\n",
       "        text-align: right;\n",
       "    }\n",
       "</style>\n",
       "<table border=\"1\" class=\"dataframe\">\n",
       "  <thead>\n",
       "    <tr style=\"text-align: right;\">\n",
       "      <th></th>\n",
       "      <th>Airline</th>\n",
       "      <th>Source</th>\n",
       "      <th>Destination</th>\n",
       "      <th>Total_Stops</th>\n",
       "      <th>Additional_Info</th>\n",
       "      <th>Price</th>\n",
       "      <th>Date</th>\n",
       "      <th>Month</th>\n",
       "      <th>Year</th>\n",
       "      <th>Arrival_hour</th>\n",
       "      <th>Arrival_min</th>\n",
       "      <th>Dept_hour</th>\n",
       "      <th>Dept_min</th>\n",
       "      <th>duration_hour</th>\n",
       "    </tr>\n",
       "  </thead>\n",
       "  <tbody>\n",
       "    <tr>\n",
       "      <th>0</th>\n",
       "      <td>IndiGo</td>\n",
       "      <td>Banglore</td>\n",
       "      <td>New Delhi</td>\n",
       "      <td>0.0</td>\n",
       "      <td>No info</td>\n",
       "      <td>3897.0</td>\n",
       "      <td>24</td>\n",
       "      <td>3</td>\n",
       "      <td>2019</td>\n",
       "      <td>1</td>\n",
       "      <td>1</td>\n",
       "      <td>22</td>\n",
       "      <td>20</td>\n",
       "      <td>2</td>\n",
       "    </tr>\n",
       "    <tr>\n",
       "      <th>1</th>\n",
       "      <td>Air India</td>\n",
       "      <td>Kolkata</td>\n",
       "      <td>Banglore</td>\n",
       "      <td>2.0</td>\n",
       "      <td>No info</td>\n",
       "      <td>7662.0</td>\n",
       "      <td>1</td>\n",
       "      <td>5</td>\n",
       "      <td>2019</td>\n",
       "      <td>13</td>\n",
       "      <td>13</td>\n",
       "      <td>5</td>\n",
       "      <td>50</td>\n",
       "      <td>7</td>\n",
       "    </tr>\n",
       "    <tr>\n",
       "      <th>2</th>\n",
       "      <td>Jet Airways</td>\n",
       "      <td>Delhi</td>\n",
       "      <td>Cochin</td>\n",
       "      <td>2.0</td>\n",
       "      <td>No info</td>\n",
       "      <td>13882.0</td>\n",
       "      <td>9</td>\n",
       "      <td>6</td>\n",
       "      <td>2019</td>\n",
       "      <td>4</td>\n",
       "      <td>4</td>\n",
       "      <td>9</td>\n",
       "      <td>25</td>\n",
       "      <td>19</td>\n",
       "    </tr>\n",
       "    <tr>\n",
       "      <th>3</th>\n",
       "      <td>IndiGo</td>\n",
       "      <td>Kolkata</td>\n",
       "      <td>Banglore</td>\n",
       "      <td>1.0</td>\n",
       "      <td>No info</td>\n",
       "      <td>6218.0</td>\n",
       "      <td>12</td>\n",
       "      <td>5</td>\n",
       "      <td>2019</td>\n",
       "      <td>23</td>\n",
       "      <td>23</td>\n",
       "      <td>18</td>\n",
       "      <td>5</td>\n",
       "      <td>5</td>\n",
       "    </tr>\n",
       "    <tr>\n",
       "      <th>4</th>\n",
       "      <td>IndiGo</td>\n",
       "      <td>Banglore</td>\n",
       "      <td>New Delhi</td>\n",
       "      <td>1.0</td>\n",
       "      <td>No info</td>\n",
       "      <td>13302.0</td>\n",
       "      <td>1</td>\n",
       "      <td>3</td>\n",
       "      <td>2019</td>\n",
       "      <td>21</td>\n",
       "      <td>21</td>\n",
       "      <td>16</td>\n",
       "      <td>50</td>\n",
       "      <td>4</td>\n",
       "    </tr>\n",
       "  </tbody>\n",
       "</table>\n",
       "</div>"
      ],
      "text/plain": [
       "       Airline    Source Destination  Total_Stops Additional_Info    Price  \\\n",
       "0       IndiGo  Banglore   New Delhi          0.0         No info   3897.0   \n",
       "1    Air India   Kolkata    Banglore          2.0         No info   7662.0   \n",
       "2  Jet Airways     Delhi      Cochin          2.0         No info  13882.0   \n",
       "3       IndiGo   Kolkata    Banglore          1.0         No info   6218.0   \n",
       "4       IndiGo  Banglore   New Delhi          1.0         No info  13302.0   \n",
       "\n",
       "   Date  Month  Year  Arrival_hour  Arrival_min  Dept_hour  Dept_min  \\\n",
       "0    24      3  2019             1            1         22        20   \n",
       "1     1      5  2019            13           13          5        50   \n",
       "2     9      6  2019             4            4          9        25   \n",
       "3    12      5  2019            23           23         18         5   \n",
       "4     1      3  2019            21           21         16        50   \n",
       "\n",
       "   duration_hour  \n",
       "0              2  \n",
       "1              7  \n",
       "2             19  \n",
       "3              5  \n",
       "4              4  "
      ]
     },
     "execution_count": 41,
     "metadata": {},
     "output_type": "execute_result"
    }
   ],
   "source": [
    "final_df.head()"
   ]
  },
  {
   "cell_type": "code",
   "execution_count": 42,
   "id": "25609059",
   "metadata": {
    "execution": {
     "iopub.execute_input": "2022-11-24T09:58:46.251675Z",
     "iopub.status.busy": "2022-11-24T09:58:46.250921Z",
     "iopub.status.idle": "2022-11-24T09:58:46.258852Z",
     "shell.execute_reply": "2022-11-24T09:58:46.257869Z"
    },
    "papermill": {
     "duration": 0.032664,
     "end_time": "2022-11-24T09:58:46.261143",
     "exception": false,
     "start_time": "2022-11-24T09:58:46.228479",
     "status": "completed"
    },
    "tags": []
   },
   "outputs": [
    {
     "data": {
      "text/plain": [
       "array(['IndiGo', 'Air India', 'Jet Airways', 'SpiceJet',\n",
       "       'Multiple carriers', 'GoAir', 'Vistara', 'Air Asia',\n",
       "       'Vistara Premium economy', 'Jet Airways Business',\n",
       "       'Multiple carriers Premium economy', 'Trujet'], dtype=object)"
      ]
     },
     "execution_count": 42,
     "metadata": {},
     "output_type": "execute_result"
    }
   ],
   "source": [
    "final_df['Airline'].unique()"
   ]
  },
  {
   "cell_type": "code",
   "execution_count": 43,
   "id": "e8eb874c",
   "metadata": {
    "execution": {
     "iopub.execute_input": "2022-11-24T09:58:46.305144Z",
     "iopub.status.busy": "2022-11-24T09:58:46.304690Z",
     "iopub.status.idle": "2022-11-24T09:58:46.450468Z",
     "shell.execute_reply": "2022-11-24T09:58:46.449399Z"
    },
    "papermill": {
     "duration": 0.171316,
     "end_time": "2022-11-24T09:58:46.453234",
     "exception": false,
     "start_time": "2022-11-24T09:58:46.281918",
     "status": "completed"
    },
    "tags": []
   },
   "outputs": [],
   "source": [
    "from sklearn.preprocessing import LabelEncoder\n",
    "labelencoder=LabelEncoder()"
   ]
  },
  {
   "cell_type": "code",
   "execution_count": 44,
   "id": "e00c44cb",
   "metadata": {
    "execution": {
     "iopub.execute_input": "2022-11-24T09:58:46.498918Z",
     "iopub.status.busy": "2022-11-24T09:58:46.497836Z",
     "iopub.status.idle": "2022-11-24T09:58:46.521088Z",
     "shell.execute_reply": "2022-11-24T09:58:46.520018Z"
    },
    "papermill": {
     "duration": 0.048698,
     "end_time": "2022-11-24T09:58:46.523662",
     "exception": false,
     "start_time": "2022-11-24T09:58:46.474964",
     "status": "completed"
    },
    "tags": []
   },
   "outputs": [],
   "source": [
    "final_df['Airline']=labelencoder.fit_transform(final_df['Airline'])\n",
    "final_df['Source']=labelencoder.fit_transform(final_df['Source'])\n",
    "final_df['Destination']=labelencoder.fit_transform(final_df['Destination'])\n",
    "final_df['Additional_Info']=labelencoder.fit_transform(final_df['Additional_Info'])"
   ]
  },
  {
   "cell_type": "code",
   "execution_count": 45,
   "id": "7a80dad4",
   "metadata": {
    "execution": {
     "iopub.execute_input": "2022-11-24T09:58:46.568152Z",
     "iopub.status.busy": "2022-11-24T09:58:46.567745Z",
     "iopub.status.idle": "2022-11-24T09:58:46.574813Z",
     "shell.execute_reply": "2022-11-24T09:58:46.573692Z"
    },
    "papermill": {
     "duration": 0.032387,
     "end_time": "2022-11-24T09:58:46.577254",
     "exception": false,
     "start_time": "2022-11-24T09:58:46.544867",
     "status": "completed"
    },
    "tags": []
   },
   "outputs": [
    {
     "data": {
      "text/plain": [
       "(13351, 14)"
      ]
     },
     "execution_count": 45,
     "metadata": {},
     "output_type": "execute_result"
    }
   ],
   "source": [
    "final_df.shape"
   ]
  },
  {
   "cell_type": "code",
   "execution_count": 46,
   "id": "e5f8f4fc",
   "metadata": {
    "execution": {
     "iopub.execute_input": "2022-11-24T09:58:46.622863Z",
     "iopub.status.busy": "2022-11-24T09:58:46.621899Z",
     "iopub.status.idle": "2022-11-24T09:58:46.639187Z",
     "shell.execute_reply": "2022-11-24T09:58:46.638318Z"
    },
    "papermill": {
     "duration": 0.042441,
     "end_time": "2022-11-24T09:58:46.641366",
     "exception": false,
     "start_time": "2022-11-24T09:58:46.598925",
     "status": "completed"
    },
    "tags": []
   },
   "outputs": [
    {
     "data": {
      "text/html": [
       "<div>\n",
       "<style scoped>\n",
       "    .dataframe tbody tr th:only-of-type {\n",
       "        vertical-align: middle;\n",
       "    }\n",
       "\n",
       "    .dataframe tbody tr th {\n",
       "        vertical-align: top;\n",
       "    }\n",
       "\n",
       "    .dataframe thead th {\n",
       "        text-align: right;\n",
       "    }\n",
       "</style>\n",
       "<table border=\"1\" class=\"dataframe\">\n",
       "  <thead>\n",
       "    <tr style=\"text-align: right;\">\n",
       "      <th></th>\n",
       "      <th>Airline</th>\n",
       "      <th>Source</th>\n",
       "      <th>Destination</th>\n",
       "      <th>Total_Stops</th>\n",
       "      <th>Additional_Info</th>\n",
       "      <th>Price</th>\n",
       "      <th>Date</th>\n",
       "      <th>Month</th>\n",
       "      <th>Year</th>\n",
       "      <th>Arrival_hour</th>\n",
       "      <th>Arrival_min</th>\n",
       "      <th>Dept_hour</th>\n",
       "      <th>Dept_min</th>\n",
       "      <th>duration_hour</th>\n",
       "    </tr>\n",
       "  </thead>\n",
       "  <tbody>\n",
       "    <tr>\n",
       "      <th>0</th>\n",
       "      <td>3</td>\n",
       "      <td>0</td>\n",
       "      <td>5</td>\n",
       "      <td>0.0</td>\n",
       "      <td>8</td>\n",
       "      <td>3897.0</td>\n",
       "      <td>24</td>\n",
       "      <td>3</td>\n",
       "      <td>2019</td>\n",
       "      <td>1</td>\n",
       "      <td>1</td>\n",
       "      <td>22</td>\n",
       "      <td>20</td>\n",
       "      <td>2</td>\n",
       "    </tr>\n",
       "    <tr>\n",
       "      <th>1</th>\n",
       "      <td>1</td>\n",
       "      <td>3</td>\n",
       "      <td>0</td>\n",
       "      <td>2.0</td>\n",
       "      <td>8</td>\n",
       "      <td>7662.0</td>\n",
       "      <td>1</td>\n",
       "      <td>5</td>\n",
       "      <td>2019</td>\n",
       "      <td>13</td>\n",
       "      <td>13</td>\n",
       "      <td>5</td>\n",
       "      <td>50</td>\n",
       "      <td>7</td>\n",
       "    </tr>\n",
       "    <tr>\n",
       "      <th>2</th>\n",
       "      <td>4</td>\n",
       "      <td>2</td>\n",
       "      <td>1</td>\n",
       "      <td>2.0</td>\n",
       "      <td>8</td>\n",
       "      <td>13882.0</td>\n",
       "      <td>9</td>\n",
       "      <td>6</td>\n",
       "      <td>2019</td>\n",
       "      <td>4</td>\n",
       "      <td>4</td>\n",
       "      <td>9</td>\n",
       "      <td>25</td>\n",
       "      <td>19</td>\n",
       "    </tr>\n",
       "    <tr>\n",
       "      <th>3</th>\n",
       "      <td>3</td>\n",
       "      <td>3</td>\n",
       "      <td>0</td>\n",
       "      <td>1.0</td>\n",
       "      <td>8</td>\n",
       "      <td>6218.0</td>\n",
       "      <td>12</td>\n",
       "      <td>5</td>\n",
       "      <td>2019</td>\n",
       "      <td>23</td>\n",
       "      <td>23</td>\n",
       "      <td>18</td>\n",
       "      <td>5</td>\n",
       "      <td>5</td>\n",
       "    </tr>\n",
       "    <tr>\n",
       "      <th>4</th>\n",
       "      <td>3</td>\n",
       "      <td>0</td>\n",
       "      <td>5</td>\n",
       "      <td>1.0</td>\n",
       "      <td>8</td>\n",
       "      <td>13302.0</td>\n",
       "      <td>1</td>\n",
       "      <td>3</td>\n",
       "      <td>2019</td>\n",
       "      <td>21</td>\n",
       "      <td>21</td>\n",
       "      <td>16</td>\n",
       "      <td>50</td>\n",
       "      <td>4</td>\n",
       "    </tr>\n",
       "  </tbody>\n",
       "</table>\n",
       "</div>"
      ],
      "text/plain": [
       "   Airline  Source  Destination  Total_Stops  Additional_Info    Price  Date  \\\n",
       "0        3       0            5          0.0                8   3897.0    24   \n",
       "1        1       3            0          2.0                8   7662.0     1   \n",
       "2        4       2            1          2.0                8  13882.0     9   \n",
       "3        3       3            0          1.0                8   6218.0    12   \n",
       "4        3       0            5          1.0                8  13302.0     1   \n",
       "\n",
       "   Month  Year  Arrival_hour  Arrival_min  Dept_hour  Dept_min  duration_hour  \n",
       "0      3  2019             1            1         22        20              2  \n",
       "1      5  2019            13           13          5        50              7  \n",
       "2      6  2019             4            4          9        25             19  \n",
       "3      5  2019            23           23         18         5              5  \n",
       "4      3  2019            21           21         16        50              4  "
      ]
     },
     "execution_count": 46,
     "metadata": {},
     "output_type": "execute_result"
    }
   ],
   "source": [
    "final_df.head()"
   ]
  },
  {
   "cell_type": "code",
   "execution_count": 47,
   "id": "3f64aff7",
   "metadata": {
    "execution": {
     "iopub.execute_input": "2022-11-24T09:58:46.687848Z",
     "iopub.status.busy": "2022-11-24T09:58:46.687401Z",
     "iopub.status.idle": "2022-11-24T09:58:46.702066Z",
     "shell.execute_reply": "2022-11-24T09:58:46.700631Z"
    },
    "papermill": {
     "duration": 0.04109,
     "end_time": "2022-11-24T09:58:46.704674",
     "exception": false,
     "start_time": "2022-11-24T09:58:46.663584",
     "status": "completed"
    },
    "tags": []
   },
   "outputs": [
    {
     "name": "stdout",
     "output_type": "stream",
     "text": [
      "<class 'pandas.core.frame.DataFrame'>\n",
      "Int64Index: 13351 entries, 0 to 2670\n",
      "Data columns (total 14 columns):\n",
      " #   Column           Non-Null Count  Dtype  \n",
      "---  ------           --------------  -----  \n",
      " 0   Airline          13351 non-null  int64  \n",
      " 1   Source           13351 non-null  int64  \n",
      " 2   Destination      13351 non-null  int64  \n",
      " 3   Total_Stops      13350 non-null  float64\n",
      " 4   Additional_Info  13351 non-null  int64  \n",
      " 5   Price            10681 non-null  float64\n",
      " 6   Date             13351 non-null  int64  \n",
      " 7   Month            13351 non-null  int64  \n",
      " 8   Year             13351 non-null  int64  \n",
      " 9   Arrival_hour     13351 non-null  int64  \n",
      " 10  Arrival_min      13351 non-null  int64  \n",
      " 11  Dept_hour        13351 non-null  int64  \n",
      " 12  Dept_min         13351 non-null  int64  \n",
      " 13  duration_hour    13351 non-null  int64  \n",
      "dtypes: float64(2), int64(12)\n",
      "memory usage: 1.5 MB\n"
     ]
    }
   ],
   "source": [
    "final_df.info()"
   ]
  },
  {
   "cell_type": "code",
   "execution_count": 48,
   "id": "fe40e59b",
   "metadata": {
    "execution": {
     "iopub.execute_input": "2022-11-24T09:58:46.749871Z",
     "iopub.status.busy": "2022-11-24T09:58:46.749089Z",
     "iopub.status.idle": "2022-11-24T09:58:46.760667Z",
     "shell.execute_reply": "2022-11-24T09:58:46.759411Z"
    },
    "papermill": {
     "duration": 0.036916,
     "end_time": "2022-11-24T09:58:46.763021",
     "exception": false,
     "start_time": "2022-11-24T09:58:46.726105",
     "status": "completed"
    },
    "tags": []
   },
   "outputs": [
    {
     "data": {
      "text/plain": [
       "Airline               0\n",
       "Source                0\n",
       "Destination           0\n",
       "Total_Stops           1\n",
       "Additional_Info       0\n",
       "Price              2670\n",
       "Date                  0\n",
       "Month                 0\n",
       "Year                  0\n",
       "Arrival_hour          0\n",
       "Arrival_min           0\n",
       "Dept_hour             0\n",
       "Dept_min              0\n",
       "duration_hour         0\n",
       "dtype: int64"
      ]
     },
     "execution_count": 48,
     "metadata": {},
     "output_type": "execute_result"
    }
   ],
   "source": [
    "final_df.isnull().sum()"
   ]
  },
  {
   "cell_type": "code",
   "execution_count": 49,
   "id": "f058d663",
   "metadata": {
    "execution": {
     "iopub.execute_input": "2022-11-24T09:58:46.808581Z",
     "iopub.status.busy": "2022-11-24T09:58:46.808130Z",
     "iopub.status.idle": "2022-11-24T09:58:46.818982Z",
     "shell.execute_reply": "2022-11-24T09:58:46.817974Z"
    },
    "papermill": {
     "duration": 0.036494,
     "end_time": "2022-11-24T09:58:46.821659",
     "exception": false,
     "start_time": "2022-11-24T09:58:46.785165",
     "status": "completed"
    },
    "tags": []
   },
   "outputs": [],
   "source": [
    "final_df.dropna(axis=0,inplace=True)"
   ]
  },
  {
   "cell_type": "code",
   "execution_count": 50,
   "id": "05389fc6",
   "metadata": {
    "execution": {
     "iopub.execute_input": "2022-11-24T09:58:46.867527Z",
     "iopub.status.busy": "2022-11-24T09:58:46.866310Z",
     "iopub.status.idle": "2022-11-24T09:58:46.875529Z",
     "shell.execute_reply": "2022-11-24T09:58:46.874417Z"
    },
    "papermill": {
     "duration": 0.034721,
     "end_time": "2022-11-24T09:58:46.878014",
     "exception": false,
     "start_time": "2022-11-24T09:58:46.843293",
     "status": "completed"
    },
    "tags": []
   },
   "outputs": [
    {
     "data": {
      "text/plain": [
       "Airline            0\n",
       "Source             0\n",
       "Destination        0\n",
       "Total_Stops        0\n",
       "Additional_Info    0\n",
       "Price              0\n",
       "Date               0\n",
       "Month              0\n",
       "Year               0\n",
       "Arrival_hour       0\n",
       "Arrival_min        0\n",
       "Dept_hour          0\n",
       "Dept_min           0\n",
       "duration_hour      0\n",
       "dtype: int64"
      ]
     },
     "execution_count": 50,
     "metadata": {},
     "output_type": "execute_result"
    }
   ],
   "source": [
    "final_df.isnull().sum()"
   ]
  },
  {
   "cell_type": "code",
   "execution_count": 51,
   "id": "9a8a9c50",
   "metadata": {
    "execution": {
     "iopub.execute_input": "2022-11-24T09:58:46.924297Z",
     "iopub.status.busy": "2022-11-24T09:58:46.923361Z",
     "iopub.status.idle": "2022-11-24T09:58:46.929082Z",
     "shell.execute_reply": "2022-11-24T09:58:46.928248Z"
    },
    "papermill": {
     "duration": 0.030564,
     "end_time": "2022-11-24T09:58:46.931230",
     "exception": false,
     "start_time": "2022-11-24T09:58:46.900666",
     "status": "completed"
    },
    "tags": []
   },
   "outputs": [],
   "source": [
    "def plot(data,col):\n",
    "    fig,(ax1,ax2)=plt.subplots(2,1)\n",
    "    sns.distplot(data[col],ax=ax1)\n",
    "    sns.boxplot(data[col],ax=ax2)"
   ]
  },
  {
   "cell_type": "code",
   "execution_count": 52,
   "id": "be007497",
   "metadata": {
    "execution": {
     "iopub.execute_input": "2022-11-24T09:58:46.976465Z",
     "iopub.status.busy": "2022-11-24T09:58:46.975694Z",
     "iopub.status.idle": "2022-11-24T09:58:47.513985Z",
     "shell.execute_reply": "2022-11-24T09:58:47.513041Z"
    },
    "papermill": {
     "duration": 0.563292,
     "end_time": "2022-11-24T09:58:47.516102",
     "exception": false,
     "start_time": "2022-11-24T09:58:46.952810",
     "status": "completed"
    },
    "tags": []
   },
   "outputs": [
    {
     "name": "stderr",
     "output_type": "stream",
     "text": [
      "/opt/conda/lib/python3.7/site-packages/seaborn/distributions.py:2619: FutureWarning: `distplot` is a deprecated function and will be removed in a future version. Please adapt your code to use either `displot` (a figure-level function with similar flexibility) or `histplot` (an axes-level function for histograms).\n",
      "  warnings.warn(msg, FutureWarning)\n",
      "/opt/conda/lib/python3.7/site-packages/seaborn/_decorators.py:43: FutureWarning: Pass the following variable as a keyword arg: x. From version 0.12, the only valid positional argument will be `data`, and passing other arguments without an explicit keyword will result in an error or misinterpretation.\n",
      "  FutureWarning\n"
     ]
    },
    {
     "data": {
      "image/png": "[encoded data removed]",
      "text/plain": [
       "<Figure size 432x288 with 2 Axes>"
      ]
     },
     "metadata": {
      "needs_background": "light"
     },
     "output_type": "display_data"
    }
   ],
   "source": [
    "plot(final_df,'Price')"
   ]
  },
  {
   "cell_type": "markdown",
   "id": "879a5968",
   "metadata": {
    "papermill": {
     "duration": 0.021467,
     "end_time": "2022-11-24T09:58:47.559397",
     "exception": false,
     "start_time": "2022-11-24T09:58:47.537930",
     "status": "completed"
    },
    "tags": []
   },
   "source": [
    "# Handling outliers:\n",
    "As there is some outliers in price feature,so we replace it with median."
   ]
  },
  {
   "cell_type": "code",
   "execution_count": 53,
   "id": "1195fc66",
   "metadata": {
    "execution": {
     "iopub.execute_input": "2022-11-24T09:58:47.605386Z",
     "iopub.status.busy": "2022-11-24T09:58:47.604095Z",
     "iopub.status.idle": "2022-11-24T09:58:47.611479Z",
     "shell.execute_reply": "2022-11-24T09:58:47.610475Z"
    },
    "papermill": {
     "duration": 0.033046,
     "end_time": "2022-11-24T09:58:47.614115",
     "exception": false,
     "start_time": "2022-11-24T09:58:47.581069",
     "status": "completed"
    },
    "tags": []
   },
   "outputs": [],
   "source": [
    "final_df['Price']=np.where(final_df['Price']>=40000,final_df['Price'].median(),final_df['Price'])"
   ]
  },
  {
   "cell_type": "code",
   "execution_count": 54,
   "id": "dd605de5",
   "metadata": {
    "execution": {
     "iopub.execute_input": "2022-11-24T09:58:47.660092Z",
     "iopub.status.busy": "2022-11-24T09:58:47.659378Z",
     "iopub.status.idle": "2022-11-24T09:58:48.163692Z",
     "shell.execute_reply": "2022-11-24T09:58:48.162455Z"
    },
    "papermill": {
     "duration": 0.52997,
     "end_time": "2022-11-24T09:58:48.166254",
     "exception": false,
     "start_time": "2022-11-24T09:58:47.636284",
     "status": "completed"
    },
    "tags": []
   },
   "outputs": [
    {
     "name": "stderr",
     "output_type": "stream",
     "text": [
      "/opt/conda/lib/python3.7/site-packages/seaborn/distributions.py:2619: FutureWarning: `distplot` is a deprecated function and will be removed in a future version. Please adapt your code to use either `displot` (a figure-level function with similar flexibility) or `histplot` (an axes-level function for histograms).\n",
      "  warnings.warn(msg, FutureWarning)\n",
      "/opt/conda/lib/python3.7/site-packages/seaborn/_decorators.py:43: FutureWarning: Pass the following variable as a keyword arg: x. From version 0.12, the only valid positional argument will be `data`, and passing other arguments without an explicit keyword will result in an error or misinterpretation.\n",
      "  FutureWarning\n"
     ]
    },
    {
     "data": {
      "image/png": "[encoded data removed]",
      "text/plain": [
       "<Figure size 432x288 with 2 Axes>"
      ]
     },
     "metadata": {
      "needs_background": "light"
     },
     "output_type": "display_data"
    }
   ],
   "source": [
    "plot(final_df,'Price')"
   ]
  },
  {
   "cell_type": "code",
   "execution_count": 55,
   "id": "939e31d6",
   "metadata": {
    "execution": {
     "iopub.execute_input": "2022-11-24T09:58:48.213404Z",
     "iopub.status.busy": "2022-11-24T09:58:48.212704Z",
     "iopub.status.idle": "2022-11-24T09:58:48.234730Z",
     "shell.execute_reply": "2022-11-24T09:58:48.233570Z"
    },
    "papermill": {
     "duration": 0.048839,
     "end_time": "2022-11-24T09:58:48.237320",
     "exception": false,
     "start_time": "2022-11-24T09:58:48.188481",
     "status": "completed"
    },
    "tags": []
   },
   "outputs": [
    {
     "data": {
      "text/html": [
       "<div>\n",
       "<style scoped>\n",
       "    .dataframe tbody tr th:only-of-type {\n",
       "        vertical-align: middle;\n",
       "    }\n",
       "\n",
       "    .dataframe tbody tr th {\n",
       "        vertical-align: top;\n",
       "    }\n",
       "\n",
       "    .dataframe thead th {\n",
       "        text-align: right;\n",
       "    }\n",
       "</style>\n",
       "<table border=\"1\" class=\"dataframe\">\n",
       "  <thead>\n",
       "    <tr style=\"text-align: right;\">\n",
       "      <th></th>\n",
       "      <th>Airline</th>\n",
       "      <th>Source</th>\n",
       "      <th>Destination</th>\n",
       "      <th>Total_Stops</th>\n",
       "      <th>Additional_Info</th>\n",
       "      <th>Price</th>\n",
       "      <th>Date</th>\n",
       "      <th>Month</th>\n",
       "      <th>Year</th>\n",
       "      <th>Arrival_hour</th>\n",
       "      <th>Arrival_min</th>\n",
       "      <th>Dept_hour</th>\n",
       "      <th>Dept_min</th>\n",
       "      <th>duration_hour</th>\n",
       "    </tr>\n",
       "  </thead>\n",
       "  <tbody>\n",
       "    <tr>\n",
       "      <th>0</th>\n",
       "      <td>3</td>\n",
       "      <td>0</td>\n",
       "      <td>5</td>\n",
       "      <td>0.0</td>\n",
       "      <td>8</td>\n",
       "      <td>3897.0</td>\n",
       "      <td>24</td>\n",
       "      <td>3</td>\n",
       "      <td>2019</td>\n",
       "      <td>1</td>\n",
       "      <td>1</td>\n",
       "      <td>22</td>\n",
       "      <td>20</td>\n",
       "      <td>2</td>\n",
       "    </tr>\n",
       "    <tr>\n",
       "      <th>1</th>\n",
       "      <td>1</td>\n",
       "      <td>3</td>\n",
       "      <td>0</td>\n",
       "      <td>2.0</td>\n",
       "      <td>8</td>\n",
       "      <td>7662.0</td>\n",
       "      <td>1</td>\n",
       "      <td>5</td>\n",
       "      <td>2019</td>\n",
       "      <td>13</td>\n",
       "      <td>13</td>\n",
       "      <td>5</td>\n",
       "      <td>50</td>\n",
       "      <td>7</td>\n",
       "    </tr>\n",
       "    <tr>\n",
       "      <th>2</th>\n",
       "      <td>4</td>\n",
       "      <td>2</td>\n",
       "      <td>1</td>\n",
       "      <td>2.0</td>\n",
       "      <td>8</td>\n",
       "      <td>13882.0</td>\n",
       "      <td>9</td>\n",
       "      <td>6</td>\n",
       "      <td>2019</td>\n",
       "      <td>4</td>\n",
       "      <td>4</td>\n",
       "      <td>9</td>\n",
       "      <td>25</td>\n",
       "      <td>19</td>\n",
       "    </tr>\n",
       "    <tr>\n",
       "      <th>3</th>\n",
       "      <td>3</td>\n",
       "      <td>3</td>\n",
       "      <td>0</td>\n",
       "      <td>1.0</td>\n",
       "      <td>8</td>\n",
       "      <td>6218.0</td>\n",
       "      <td>12</td>\n",
       "      <td>5</td>\n",
       "      <td>2019</td>\n",
       "      <td>23</td>\n",
       "      <td>23</td>\n",
       "      <td>18</td>\n",
       "      <td>5</td>\n",
       "      <td>5</td>\n",
       "    </tr>\n",
       "    <tr>\n",
       "      <th>4</th>\n",
       "      <td>3</td>\n",
       "      <td>0</td>\n",
       "      <td>5</td>\n",
       "      <td>1.0</td>\n",
       "      <td>8</td>\n",
       "      <td>13302.0</td>\n",
       "      <td>1</td>\n",
       "      <td>3</td>\n",
       "      <td>2019</td>\n",
       "      <td>21</td>\n",
       "      <td>21</td>\n",
       "      <td>16</td>\n",
       "      <td>50</td>\n",
       "      <td>4</td>\n",
       "    </tr>\n",
       "    <tr>\n",
       "      <th>5</th>\n",
       "      <td>8</td>\n",
       "      <td>3</td>\n",
       "      <td>0</td>\n",
       "      <td>0.0</td>\n",
       "      <td>8</td>\n",
       "      <td>3873.0</td>\n",
       "      <td>24</td>\n",
       "      <td>6</td>\n",
       "      <td>2019</td>\n",
       "      <td>11</td>\n",
       "      <td>11</td>\n",
       "      <td>9</td>\n",
       "      <td>0</td>\n",
       "      <td>2</td>\n",
       "    </tr>\n",
       "    <tr>\n",
       "      <th>6</th>\n",
       "      <td>4</td>\n",
       "      <td>0</td>\n",
       "      <td>5</td>\n",
       "      <td>1.0</td>\n",
       "      <td>5</td>\n",
       "      <td>11087.0</td>\n",
       "      <td>12</td>\n",
       "      <td>3</td>\n",
       "      <td>2019</td>\n",
       "      <td>10</td>\n",
       "      <td>10</td>\n",
       "      <td>18</td>\n",
       "      <td>55</td>\n",
       "      <td>15</td>\n",
       "    </tr>\n",
       "    <tr>\n",
       "      <th>7</th>\n",
       "      <td>4</td>\n",
       "      <td>0</td>\n",
       "      <td>5</td>\n",
       "      <td>1.0</td>\n",
       "      <td>8</td>\n",
       "      <td>22270.0</td>\n",
       "      <td>1</td>\n",
       "      <td>3</td>\n",
       "      <td>2019</td>\n",
       "      <td>5</td>\n",
       "      <td>5</td>\n",
       "      <td>8</td>\n",
       "      <td>0</td>\n",
       "      <td>21</td>\n",
       "    </tr>\n",
       "    <tr>\n",
       "      <th>8</th>\n",
       "      <td>4</td>\n",
       "      <td>0</td>\n",
       "      <td>5</td>\n",
       "      <td>1.0</td>\n",
       "      <td>5</td>\n",
       "      <td>11087.0</td>\n",
       "      <td>12</td>\n",
       "      <td>3</td>\n",
       "      <td>2019</td>\n",
       "      <td>10</td>\n",
       "      <td>10</td>\n",
       "      <td>8</td>\n",
       "      <td>55</td>\n",
       "      <td>25</td>\n",
       "    </tr>\n",
       "    <tr>\n",
       "      <th>9</th>\n",
       "      <td>6</td>\n",
       "      <td>2</td>\n",
       "      <td>1</td>\n",
       "      <td>1.0</td>\n",
       "      <td>8</td>\n",
       "      <td>8625.0</td>\n",
       "      <td>27</td>\n",
       "      <td>5</td>\n",
       "      <td>2019</td>\n",
       "      <td>19</td>\n",
       "      <td>19</td>\n",
       "      <td>11</td>\n",
       "      <td>25</td>\n",
       "      <td>7</td>\n",
       "    </tr>\n",
       "    <tr>\n",
       "      <th>10</th>\n",
       "      <td>1</td>\n",
       "      <td>2</td>\n",
       "      <td>1</td>\n",
       "      <td>1.0</td>\n",
       "      <td>8</td>\n",
       "      <td>8907.0</td>\n",
       "      <td>1</td>\n",
       "      <td>6</td>\n",
       "      <td>2019</td>\n",
       "      <td>23</td>\n",
       "      <td>23</td>\n",
       "      <td>9</td>\n",
       "      <td>45</td>\n",
       "      <td>13</td>\n",
       "    </tr>\n",
       "    <tr>\n",
       "      <th>11</th>\n",
       "      <td>3</td>\n",
       "      <td>3</td>\n",
       "      <td>0</td>\n",
       "      <td>0.0</td>\n",
       "      <td>8</td>\n",
       "      <td>4174.0</td>\n",
       "      <td>18</td>\n",
       "      <td>4</td>\n",
       "      <td>2019</td>\n",
       "      <td>22</td>\n",
       "      <td>22</td>\n",
       "      <td>20</td>\n",
       "      <td>20</td>\n",
       "      <td>2</td>\n",
       "    </tr>\n",
       "    <tr>\n",
       "      <th>12</th>\n",
       "      <td>1</td>\n",
       "      <td>1</td>\n",
       "      <td>4</td>\n",
       "      <td>0.0</td>\n",
       "      <td>8</td>\n",
       "      <td>4667.0</td>\n",
       "      <td>24</td>\n",
       "      <td>6</td>\n",
       "      <td>2019</td>\n",
       "      <td>13</td>\n",
       "      <td>13</td>\n",
       "      <td>11</td>\n",
       "      <td>40</td>\n",
       "      <td>2</td>\n",
       "    </tr>\n",
       "    <tr>\n",
       "      <th>13</th>\n",
       "      <td>4</td>\n",
       "      <td>3</td>\n",
       "      <td>0</td>\n",
       "      <td>1.0</td>\n",
       "      <td>5</td>\n",
       "      <td>9663.0</td>\n",
       "      <td>9</td>\n",
       "      <td>5</td>\n",
       "      <td>2019</td>\n",
       "      <td>9</td>\n",
       "      <td>9</td>\n",
       "      <td>21</td>\n",
       "      <td>10</td>\n",
       "      <td>12</td>\n",
       "    </tr>\n",
       "    <tr>\n",
       "      <th>14</th>\n",
       "      <td>3</td>\n",
       "      <td>3</td>\n",
       "      <td>0</td>\n",
       "      <td>0.0</td>\n",
       "      <td>8</td>\n",
       "      <td>4804.0</td>\n",
       "      <td>24</td>\n",
       "      <td>4</td>\n",
       "      <td>2019</td>\n",
       "      <td>19</td>\n",
       "      <td>19</td>\n",
       "      <td>17</td>\n",
       "      <td>15</td>\n",
       "      <td>2</td>\n",
       "    </tr>\n",
       "    <tr>\n",
       "      <th>15</th>\n",
       "      <td>1</td>\n",
       "      <td>2</td>\n",
       "      <td>1</td>\n",
       "      <td>2.0</td>\n",
       "      <td>8</td>\n",
       "      <td>14011.0</td>\n",
       "      <td>3</td>\n",
       "      <td>3</td>\n",
       "      <td>2019</td>\n",
       "      <td>19</td>\n",
       "      <td>19</td>\n",
       "      <td>16</td>\n",
       "      <td>40</td>\n",
       "      <td>26</td>\n",
       "    </tr>\n",
       "    <tr>\n",
       "      <th>16</th>\n",
       "      <td>8</td>\n",
       "      <td>2</td>\n",
       "      <td>1</td>\n",
       "      <td>1.0</td>\n",
       "      <td>8</td>\n",
       "      <td>5830.0</td>\n",
       "      <td>15</td>\n",
       "      <td>4</td>\n",
       "      <td>2019</td>\n",
       "      <td>13</td>\n",
       "      <td>13</td>\n",
       "      <td>8</td>\n",
       "      <td>45</td>\n",
       "      <td>4</td>\n",
       "    </tr>\n",
       "    <tr>\n",
       "      <th>17</th>\n",
       "      <td>4</td>\n",
       "      <td>2</td>\n",
       "      <td>1</td>\n",
       "      <td>1.0</td>\n",
       "      <td>5</td>\n",
       "      <td>10262.0</td>\n",
       "      <td>12</td>\n",
       "      <td>6</td>\n",
       "      <td>2019</td>\n",
       "      <td>12</td>\n",
       "      <td>12</td>\n",
       "      <td>14</td>\n",
       "      <td>0</td>\n",
       "      <td>22</td>\n",
       "    </tr>\n",
       "    <tr>\n",
       "      <th>18</th>\n",
       "      <td>1</td>\n",
       "      <td>2</td>\n",
       "      <td>1</td>\n",
       "      <td>2.0</td>\n",
       "      <td>8</td>\n",
       "      <td>13381.0</td>\n",
       "      <td>12</td>\n",
       "      <td>6</td>\n",
       "      <td>2019</td>\n",
       "      <td>19</td>\n",
       "      <td>19</td>\n",
       "      <td>20</td>\n",
       "      <td>15</td>\n",
       "      <td>23</td>\n",
       "    </tr>\n",
       "    <tr>\n",
       "      <th>19</th>\n",
       "      <td>4</td>\n",
       "      <td>2</td>\n",
       "      <td>1</td>\n",
       "      <td>1.0</td>\n",
       "      <td>5</td>\n",
       "      <td>12898.0</td>\n",
       "      <td>27</td>\n",
       "      <td>5</td>\n",
       "      <td>2019</td>\n",
       "      <td>12</td>\n",
       "      <td>12</td>\n",
       "      <td>16</td>\n",
       "      <td>0</td>\n",
       "      <td>20</td>\n",
       "    </tr>\n",
       "  </tbody>\n",
       "</table>\n",
       "</div>"
      ],
      "text/plain": [
       "    Airline  Source  Destination  Total_Stops  Additional_Info    Price  Date  \\\n",
       "0         3       0            5          0.0                8   3897.0    24   \n",
       "1         1       3            0          2.0                8   7662.0     1   \n",
       "2         4       2            1          2.0                8  13882.0     9   \n",
       "3         3       3            0          1.0                8   6218.0    12   \n",
       "4         3       0            5          1.0                8  13302.0     1   \n",
       "5         8       3            0          0.0                8   3873.0    24   \n",
       "6         4       0            5          1.0                5  11087.0    12   \n",
       "7         4       0            5          1.0                8  22270.0     1   \n",
       "8         4       0            5          1.0                5  11087.0    12   \n",
       "9         6       2            1          1.0                8   8625.0    27   \n",
       "10        1       2            1          1.0                8   8907.0     1   \n",
       "11        3       3            0          0.0                8   4174.0    18   \n",
       "12        1       1            4          0.0                8   4667.0    24   \n",
       "13        4       3            0          1.0                5   9663.0     9   \n",
       "14        3       3            0          0.0                8   4804.0    24   \n",
       "15        1       2            1          2.0                8  14011.0     3   \n",
       "16        8       2            1          1.0                8   5830.0    15   \n",
       "17        4       2            1          1.0                5  10262.0    12   \n",
       "18        1       2            1          2.0                8  13381.0    12   \n",
       "19        4       2            1          1.0                5  12898.0    27   \n",
       "\n",
       "    Month  Year  Arrival_hour  Arrival_min  Dept_hour  Dept_min  duration_hour  \n",
       "0       3  2019             1            1         22        20              2  \n",
       "1       5  2019            13           13          5        50              7  \n",
       "2       6  2019             4            4          9        25             19  \n",
       "3       5  2019            23           23         18         5              5  \n",
       "4       3  2019            21           21         16        50              4  \n",
       "5       6  2019            11           11          9         0              2  \n",
       "6       3  2019            10           10         18        55             15  \n",
       "7       3  2019             5            5          8         0             21  \n",
       "8       3  2019            10           10          8        55             25  \n",
       "9       5  2019            19           19         11        25              7  \n",
       "10      6  2019            23           23          9        45             13  \n",
       "11      4  2019            22           22         20        20              2  \n",
       "12      6  2019            13           13         11        40              2  \n",
       "13      5  2019             9            9         21        10             12  \n",
       "14      4  2019            19           19         17        15              2  \n",
       "15      3  2019            19           19         16        40             26  \n",
       "16      4  2019            13           13          8        45              4  \n",
       "17      6  2019            12           12         14         0             22  \n",
       "18      6  2019            19           19         20        15             23  \n",
       "19      5  2019            12           12         16         0             20  "
      ]
     },
     "execution_count": 55,
     "metadata": {},
     "output_type": "execute_result"
    }
   ],
   "source": [
    "final_df.head(20)"
   ]
  },
  {
   "cell_type": "code",
   "execution_count": null,
   "id": "a8c70880",
   "metadata": {
    "papermill": {
     "duration": 0.022626,
     "end_time": "2022-11-24T09:58:48.283054",
     "exception": false,
     "start_time": "2022-11-24T09:58:48.260428",
     "status": "completed"
    },
    "tags": []
   },
   "outputs": [],
   "source": []
  },
  {
   "cell_type": "markdown",
   "id": "34a46f5d",
   "metadata": {
    "papermill": {
     "duration": 0.022671,
     "end_time": "2022-11-24T09:58:48.328758",
     "exception": false,
     "start_time": "2022-11-24T09:58:48.306087",
     "status": "completed"
    },
    "tags": []
   },
   "source": [
    "# Seprate the dataset in X and Y columns"
   ]
  },
  {
   "cell_type": "code",
   "execution_count": 56,
   "id": "2860e337",
   "metadata": {
    "execution": {
     "iopub.execute_input": "2022-11-24T09:58:48.376181Z",
     "iopub.status.busy": "2022-11-24T09:58:48.375802Z",
     "iopub.status.idle": "2022-11-24T09:58:48.381641Z",
     "shell.execute_reply": "2022-11-24T09:58:48.380833Z"
    },
    "papermill": {
     "duration": 0.03229,
     "end_time": "2022-11-24T09:58:48.383680",
     "exception": false,
     "start_time": "2022-11-24T09:58:48.351390",
     "status": "completed"
    },
    "tags": []
   },
   "outputs": [],
   "source": [
    "X=final_df.drop(columns=['Price'],axis=1)\n",
    "y=final_df['Price']"
   ]
  },
  {
   "cell_type": "markdown",
   "id": "7738d5d1",
   "metadata": {
    "papermill": {
     "duration": 0.02247,
     "end_time": "2022-11-24T09:58:48.429794",
     "exception": false,
     "start_time": "2022-11-24T09:58:48.407324",
     "status": "completed"
    },
    "tags": []
   },
   "source": [
    "# Models"
   ]
  },
  {
   "cell_type": "code",
   "execution_count": 57,
   "id": "f8881617",
   "metadata": {
    "execution": {
     "iopub.execute_input": "2022-11-24T09:58:48.477701Z",
     "iopub.status.busy": "2022-11-24T09:58:48.476616Z",
     "iopub.status.idle": "2022-11-24T09:58:48.538937Z",
     "shell.execute_reply": "2022-11-24T09:58:48.537996Z"
    },
    "papermill": {
     "duration": 0.089408,
     "end_time": "2022-11-24T09:58:48.541892",
     "exception": false,
     "start_time": "2022-11-24T09:58:48.452484",
     "status": "completed"
    },
    "tags": []
   },
   "outputs": [],
   "source": [
    "from sklearn.model_selection import train_test_split\n",
    "X_train,X_test,y_train,y_test=train_test_split(X,y,test_size=0.20,random_state=4)"
   ]
  },
  {
   "cell_type": "code",
   "execution_count": 58,
   "id": "6f6824ab",
   "metadata": {
    "execution": {
     "iopub.execute_input": "2022-11-24T09:58:48.590414Z",
     "iopub.status.busy": "2022-11-24T09:58:48.589181Z",
     "iopub.status.idle": "2022-11-24T09:58:48.784126Z",
     "shell.execute_reply": "2022-11-24T09:58:48.782879Z"
    },
    "papermill": {
     "duration": 0.221798,
     "end_time": "2022-11-24T09:58:48.786965",
     "exception": false,
     "start_time": "2022-11-24T09:58:48.565167",
     "status": "completed"
    },
    "tags": []
   },
   "outputs": [],
   "source": [
    "from sklearn.metrics import r2_score,mean_absolute_error,mean_squared_error\n",
    "\n",
    "from sklearn.linear_model import LinearRegression\n",
    "from sklearn.neighbors import KNeighborsRegressor\n",
    "from sklearn.tree import DecisionTreeRegressor\n",
    "from sklearn.ensemble import GradientBoostingRegressor,RandomForestRegressor\n"
   ]
  },
  {
   "cell_type": "code",
   "execution_count": 59,
   "id": "ea6fe993",
   "metadata": {
    "execution": {
     "iopub.execute_input": "2022-11-24T09:58:48.835186Z",
     "iopub.status.busy": "2022-11-24T09:58:48.834414Z",
     "iopub.status.idle": "2022-11-24T09:58:48.841936Z",
     "shell.execute_reply": "2022-11-24T09:58:48.841103Z"
    },
    "papermill": {
     "duration": 0.034348,
     "end_time": "2022-11-24T09:58:48.844221",
     "exception": false,
     "start_time": "2022-11-24T09:58:48.809873",
     "status": "completed"
    },
    "tags": []
   },
   "outputs": [],
   "source": [
    "def predict(ml_model):\n",
    "    print('Model is: {}'.format(ml_model))\n",
    "    model= ml_model.fit(X_train,y_train)\n",
    "    print(\"Training score: {}\".format(model.score(X_train,y_train)))\n",
    "    predictions = model.predict(X_test)\n",
    "    print(\"Predictions are: {}\".format(predictions))\n",
    "    print('\\n')\n",
    "    r2score=r2_score(y_test,predictions) \n",
    "    print(\"r2 score is: {}\".format(r2score))\n",
    "          \n",
    "    print('MAE:{}'.format(mean_absolute_error(y_test,predictions)))\n",
    "    print('MSE:{}'.format(mean_squared_error(y_test,predictions)))\n",
    "    print('RMSE:{}'.format(np.sqrt(mean_squared_error(y_test,predictions))))\n",
    "     \n",
    "    sns.distplot(y_test-predictions)  "
   ]
  },
  {
   "cell_type": "code",
   "execution_count": 60,
   "id": "30203637",
   "metadata": {
    "execution": {
     "iopub.execute_input": "2022-11-24T09:58:48.892691Z",
     "iopub.status.busy": "2022-11-24T09:58:48.891839Z",
     "iopub.status.idle": "2022-11-24T09:58:49.344018Z",
     "shell.execute_reply": "2022-11-24T09:58:49.342730Z"
    },
    "papermill": {
     "duration": 0.479332,
     "end_time": "2022-11-24T09:58:49.346658",
     "exception": false,
     "start_time": "2022-11-24T09:58:48.867326",
     "status": "completed"
    },
    "tags": []
   },
   "outputs": [
    {
     "name": "stdout",
     "output_type": "stream",
     "text": [
      "Model is: LinearRegression()\n",
      "Training score: 0.4612109177157353\n",
      "Predictions are: [11571.30805711  4753.22927284  5311.19123037 ... 14339.90296799\n",
      " 13109.17390869  5757.7984094 ]\n",
      "\n",
      "\n",
      "r2 score is: 0.48314887627211556\n",
      "MAE:2403.5650968816794\n",
      "MSE:9937755.778064389\n",
      "RMSE:3152.420622008489\n"
     ]
    },
    {
     "name": "stderr",
     "output_type": "stream",
     "text": [
      "/opt/conda/lib/python3.7/site-packages/seaborn/distributions.py:2619: FutureWarning: `distplot` is a deprecated function and will be removed in a future version. Please adapt your code to use either `displot` (a figure-level function with similar flexibility) or `histplot` (an axes-level function for histograms).\n",
      "  warnings.warn(msg, FutureWarning)\n"
     ]
    },
    {
     "data": {
      "image/png": "[encoded data removed]",
      "text/plain": [
       "<Figure size 432x288 with 1 Axes>"
      ]
     },
     "metadata": {
      "needs_background": "light"
     },
     "output_type": "display_data"
    }
   ],
   "source": [
    "predict(LinearRegression())"
   ]
  },
  {
   "cell_type": "code",
   "execution_count": 61,
   "id": "00e4fa0d",
   "metadata": {
    "execution": {
     "iopub.execute_input": "2022-11-24T09:58:49.395819Z",
     "iopub.status.busy": "2022-11-24T09:58:49.395336Z",
     "iopub.status.idle": "2022-11-24T09:58:52.076314Z",
     "shell.execute_reply": "2022-11-24T09:58:52.075369Z"
    },
    "papermill": {
     "duration": 2.709967,
     "end_time": "2022-11-24T09:58:52.080363",
     "exception": false,
     "start_time": "2022-11-24T09:58:49.370396",
     "status": "completed"
    },
    "tags": []
   },
   "outputs": [
    {
     "name": "stdout",
     "output_type": "stream",
     "text": [
      "Model is: RandomForestRegressor()\n",
      "Training score: 0.9806173027940428\n",
      "Predictions are: [14649.48        4466.72        4527.51       ... 12882.79791667\n",
      " 17241.72        4674.3       ]\n",
      "\n",
      "\n",
      "r2 score is: 0.8975026625131675\n",
      "MAE:687.9411519919297\n",
      "MSE:1970767.7145000496\n",
      "RMSE:1403.8403450891592\n"
     ]
    },
    {
     "name": "stderr",
     "output_type": "stream",
     "text": [
      "/opt/conda/lib/python3.7/site-packages/seaborn/distributions.py:2619: FutureWarning: `distplot` is a deprecated function and will be removed in a future version. Please adapt your code to use either `displot` (a figure-level function with similar flexibility) or `histplot` (an axes-level function for histograms).\n",
      "  warnings.warn(msg, FutureWarning)\n"
     ]
    },
    {
     "data": {
      "image/png": "[encoded data removed]",
      "text/plain": [
       "<Figure size 432x288 with 1 Axes>"
      ]
     },
     "metadata": {
      "needs_background": "light"
     },
     "output_type": "display_data"
    }
   ],
   "source": [
    "predict(RandomForestRegressor())"
   ]
  },
  {
   "cell_type": "code",
   "execution_count": 62,
   "id": "dda6f0e1",
   "metadata": {
    "execution": {
     "iopub.execute_input": "2022-11-24T09:58:52.143529Z",
     "iopub.status.busy": "2022-11-24T09:58:52.142462Z",
     "iopub.status.idle": "2022-11-24T09:58:52.670360Z",
     "shell.execute_reply": "2022-11-24T09:58:52.669572Z"
    },
    "papermill": {
     "duration": 0.555706,
     "end_time": "2022-11-24T09:58:52.672534",
     "exception": false,
     "start_time": "2022-11-24T09:58:52.116828",
     "status": "completed"
    },
    "tags": []
   },
   "outputs": [
    {
     "name": "stdout",
     "output_type": "stream",
     "text": [
      "Model is: KNeighborsRegressor()\n",
      "Training score: 0.7887595362851733\n",
      "Predictions are: [15979.   5014.   4956.2 ... 12061.2 14963.6  5124.6]\n",
      "\n",
      "\n",
      "r2 score is: 0.7014167102478435\n",
      "MAE:1621.2294007490636\n",
      "MSE:5741010.663895131\n",
      "RMSE:2396.040622338263\n"
     ]
    },
    {
     "name": "stderr",
     "output_type": "stream",
     "text": [
      "/opt/conda/lib/python3.7/site-packages/seaborn/distributions.py:2619: FutureWarning: `distplot` is a deprecated function and will be removed in a future version. Please adapt your code to use either `displot` (a figure-level function with similar flexibility) or `histplot` (an axes-level function for histograms).\n",
      "  warnings.warn(msg, FutureWarning)\n"
     ]
    },
    {
     "data": {
      "image/png": "[encoded data removed]",
      "text/plain": [
       "<Figure size 432x288 with 1 Axes>"
      ]
     },
     "metadata": {
      "needs_background": "light"
     },
     "output_type": "display_data"
    }
   ],
   "source": [
    "predict(KNeighborsRegressor())"
   ]
  },
  {
   "cell_type": "code",
   "execution_count": 63,
   "id": "303c312e",
   "metadata": {
    "execution": {
     "iopub.execute_input": "2022-11-24T09:58:52.723363Z",
     "iopub.status.busy": "2022-11-24T09:58:52.722374Z",
     "iopub.status.idle": "2022-11-24T09:58:53.270626Z",
     "shell.execute_reply": "2022-11-24T09:58:53.269540Z"
    },
    "papermill": {
     "duration": 0.575936,
     "end_time": "2022-11-24T09:58:53.272808",
     "exception": false,
     "start_time": "2022-11-24T09:58:52.696872",
     "status": "completed"
    },
    "tags": []
   },
   "outputs": [
    {
     "name": "stdout",
     "output_type": "stream",
     "text": [
      "Model is: DecisionTreeRegressor()\n",
      "Training score: 0.9935235991193568\n",
      "Predictions are: [15136.  4174.  4384. ... 18211. 17471.  4668.]\n",
      "\n",
      "\n",
      "r2 score is: 0.823802237169473\n",
      "MAE:793.9426498127341\n",
      "MSE:3387842.756385247\n",
      "RMSE:1840.6093437732102\n"
     ]
    },
    {
     "name": "stderr",
     "output_type": "stream",
     "text": [
      "/opt/conda/lib/python3.7/site-packages/seaborn/distributions.py:2619: FutureWarning: `distplot` is a deprecated function and will be removed in a future version. Please adapt your code to use either `displot` (a figure-level function with similar flexibility) or `histplot` (an axes-level function for histograms).\n",
      "  warnings.warn(msg, FutureWarning)\n"
     ]
    },
    {
     "data": {
      "image/png": "[encoded data removed]",
      "text/plain": [
       "<Figure size 432x288 with 1 Axes>"
      ]
     },
     "metadata": {
      "needs_background": "light"
     },
     "output_type": "display_data"
    }
   ],
   "source": [
    "predict(DecisionTreeRegressor())"
   ]
  },
  {
   "cell_type": "code",
   "execution_count": 64,
   "id": "77db72d0",
   "metadata": {
    "execution": {
     "iopub.execute_input": "2022-11-24T09:58:53.324969Z",
     "iopub.status.busy": "2022-11-24T09:58:53.324014Z",
     "iopub.status.idle": "2022-11-24T09:59:04.578204Z",
     "shell.execute_reply": "2022-11-24T09:59:04.576875Z"
    },
    "papermill": {
     "duration": 11.282468,
     "end_time": "2022-11-24T09:59:04.580796",
     "exception": false,
     "start_time": "2022-11-24T09:58:53.298328",
     "status": "completed"
    },
    "tags": []
   },
   "outputs": [
    {
     "name": "stdout",
     "output_type": "stream",
     "text": [
      "Model is: SVR()\n",
      "Training score: -0.02280706703621238\n",
      "Predictions are: [8371.68202736 8371.30022883 8371.34683033 ... 8371.90526722 8371.83627457\n",
      " 8371.3928147 ]\n",
      "\n",
      "\n",
      "r2 score is: -0.026431149750572036\n",
      "MAE:3583.3639290298543\n",
      "MSE:19735706.513795666\n",
      "RMSE:4442.4887747517905\n"
     ]
    },
    {
     "name": "stderr",
     "output_type": "stream",
     "text": [
      "/opt/conda/lib/python3.7/site-packages/seaborn/distributions.py:2619: FutureWarning: `distplot` is a deprecated function and will be removed in a future version. Please adapt your code to use either `displot` (a figure-level function with similar flexibility) or `histplot` (an axes-level function for histograms).\n",
      "  warnings.warn(msg, FutureWarning)\n"
     ]
    },
    {
     "data": {
      "image/png": "[encoded data removed]",
      "text/plain": [
       "<Figure size 432x288 with 1 Axes>"
      ]
     },
     "metadata": {
      "needs_background": "light"
     },
     "output_type": "display_data"
    }
   ],
   "source": [
    "from sklearn.svm import SVR\n",
    "predict(SVR())"
   ]
  },
  {
   "cell_type": "code",
   "execution_count": 65,
   "id": "01caf546",
   "metadata": {
    "execution": {
     "iopub.execute_input": "2022-11-24T09:59:04.635734Z",
     "iopub.status.busy": "2022-11-24T09:59:04.634691Z",
     "iopub.status.idle": "2022-11-24T09:59:05.712515Z",
     "shell.execute_reply": "2022-11-24T09:59:05.711361Z"
    },
    "papermill": {
     "duration": 1.107487,
     "end_time": "2022-11-24T09:59:05.714910",
     "exception": false,
     "start_time": "2022-11-24T09:59:04.607423",
     "status": "completed"
    },
    "tags": []
   },
   "outputs": [
    {
     "name": "stdout",
     "output_type": "stream",
     "text": [
      "Model is: GradientBoostingRegressor()\n",
      "Training score: 0.8310814819043929\n",
      "Predictions are: [13137.69780325  4335.55246633  4478.81954708 ... 11452.17570207\n",
      " 17214.16469026  4913.77978677]\n",
      "\n",
      "\n",
      "r2 score is: 0.8401917941738388\n",
      "MAE:1234.676703583382\n",
      "MSE:3072712.523823725\n",
      "RMSE:1752.915435445682\n"
     ]
    },
    {
     "name": "stderr",
     "output_type": "stream",
     "text": [
      "/opt/conda/lib/python3.7/site-packages/seaborn/distributions.py:2619: FutureWarning: `distplot` is a deprecated function and will be removed in a future version. Please adapt your code to use either `displot` (a figure-level function with similar flexibility) or `histplot` (an axes-level function for histograms).\n",
      "  warnings.warn(msg, FutureWarning)\n"
     ]
    },
    {
     "data": {
      "image/png": "[encoded data removed]",
      "text/plain": [
       "<Figure size 432x288 with 1 Axes>"
      ]
     },
     "metadata": {
      "needs_background": "light"
     },
     "output_type": "display_data"
    }
   ],
   "source": [
    "predict(GradientBoostingRegressor())"
   ]
  },
  {
   "cell_type": "markdown",
   "id": "cda828b0",
   "metadata": {
    "papermill": {
     "duration": 0.026002,
     "end_time": "2022-11-24T09:59:05.767225",
     "exception": false,
     "start_time": "2022-11-24T09:59:05.741223",
     "status": "completed"
    },
    "tags": []
   },
   "source": [
    "# Hypertunning the model"
   ]
  },
  {
   "cell_type": "code",
   "execution_count": 66,
   "id": "5c507800",
   "metadata": {
    "execution": {
     "iopub.execute_input": "2022-11-24T09:59:05.821157Z",
     "iopub.status.busy": "2022-11-24T09:59:05.820745Z",
     "iopub.status.idle": "2022-11-24T09:59:05.825620Z",
     "shell.execute_reply": "2022-11-24T09:59:05.824575Z"
    },
    "papermill": {
     "duration": 0.034264,
     "end_time": "2022-11-24T09:59:05.827662",
     "exception": false,
     "start_time": "2022-11-24T09:59:05.793398",
     "status": "completed"
    },
    "tags": []
   },
   "outputs": [],
   "source": [
    "from sklearn.model_selection import RandomizedSearchCV"
   ]
  },
  {
   "cell_type": "code",
   "execution_count": 67,
   "id": "039ce3ca",
   "metadata": {
    "execution": {
     "iopub.execute_input": "2022-11-24T09:59:05.882497Z",
     "iopub.status.busy": "2022-11-24T09:59:05.881641Z",
     "iopub.status.idle": "2022-11-24T09:59:05.887070Z",
     "shell.execute_reply": "2022-11-24T09:59:05.885989Z"
    },
    "papermill": {
     "duration": 0.035523,
     "end_time": "2022-11-24T09:59:05.889343",
     "exception": false,
     "start_time": "2022-11-24T09:59:05.853820",
     "status": "completed"
    },
    "tags": []
   },
   "outputs": [],
   "source": [
    "random_grid = {\n",
    "    'n_estimators' : [100, 120, 150, 180, 200,220,280],\n",
    "    'max_features':['auto','sqrt'],\n",
    "    'max_depth':[5,10,15,20,25],\n",
    "    }"
   ]
  },
  {
   "cell_type": "code",
   "execution_count": 68,
   "id": "19b61880",
   "metadata": {
    "execution": {
     "iopub.execute_input": "2022-11-24T09:59:05.944820Z",
     "iopub.status.busy": "2022-11-24T09:59:05.944049Z",
     "iopub.status.idle": "2022-11-24T09:59:25.388348Z",
     "shell.execute_reply": "2022-11-24T09:59:25.387006Z"
    },
    "papermill": {
     "duration": 19.473971,
     "end_time": "2022-11-24T09:59:25.390840",
     "exception": false,
     "start_time": "2022-11-24T09:59:05.916869",
     "status": "completed"
    },
    "tags": []
   },
   "outputs": [
    {
     "name": "stdout",
     "output_type": "stream",
     "text": [
      "Fitting 3 folds for each of 10 candidates, totalling 30 fits\n"
     ]
    },
    {
     "data": {
      "text/plain": [
       "{'n_estimators': 100, 'max_features': 'auto', 'max_depth': 15}"
      ]
     },
     "execution_count": 68,
     "metadata": {},
     "output_type": "execute_result"
    }
   ],
   "source": [
    "rf=RandomForestRegressor()\n",
    "rf_random=RandomizedSearchCV(estimator=rf,param_distributions=random_grid,cv=3,verbose=2,n_jobs=-1,)\n",
    "\n",
    "rf_random.fit(X_train,y_train)\n",
    "\n",
    "# best parameter\n",
    "rf_random.best_params_"
   ]
  },
  {
   "cell_type": "code",
   "execution_count": 69,
   "id": "ff2e184e",
   "metadata": {
    "execution": {
     "iopub.execute_input": "2022-11-24T09:59:25.445745Z",
     "iopub.status.busy": "2022-11-24T09:59:25.445062Z",
     "iopub.status.idle": "2022-11-24T09:59:25.451916Z",
     "shell.execute_reply": "2022-11-24T09:59:25.450829Z"
    },
    "papermill": {
     "duration": 0.036812,
     "end_time": "2022-11-24T09:59:25.454046",
     "exception": false,
     "start_time": "2022-11-24T09:59:25.417234",
     "status": "completed"
    },
    "tags": []
   },
   "outputs": [
    {
     "data": {
      "text/plain": [
       "{'n_estimators': 100, 'max_features': 'auto', 'max_depth': 15}"
      ]
     },
     "execution_count": 69,
     "metadata": {},
     "output_type": "execute_result"
    }
   ],
   "source": [
    "# best parameter\n",
    "rf_random.best_params_"
   ]
  },
  {
   "cell_type": "code",
   "execution_count": 70,
   "id": "1209d200",
   "metadata": {
    "execution": {
     "iopub.execute_input": "2022-11-24T09:59:25.507869Z",
     "iopub.status.busy": "2022-11-24T09:59:25.507426Z",
     "iopub.status.idle": "2022-11-24T09:59:26.555775Z",
     "shell.execute_reply": "2022-11-24T09:59:26.554482Z"
    },
    "papermill": {
     "duration": 1.078532,
     "end_time": "2022-11-24T09:59:26.558412",
     "exception": false,
     "start_time": "2022-11-24T09:59:25.479880",
     "status": "completed"
    },
    "tags": []
   },
   "outputs": [
    {
     "data": {
      "text/plain": [
       "<seaborn.axisgrid.FacetGrid at 0x7fe4ee85e850>"
      ]
     },
     "execution_count": 70,
     "metadata": {},
     "output_type": "execute_result"
    },
    {
     "data": {
      "image/png": "[encoded data removed]",
      "text/plain": [
       "<Figure size 360x360 with 1 Axes>"
      ]
     },
     "metadata": {
      "needs_background": "light"
     },
     "output_type": "display_data"
    }
   ],
   "source": [
    "#predicting the values\n",
    "prediction = rf_random.predict(X_test)\n",
    "\n",
    "#distribution plot between actual value and predicted value\n",
    "sns.displot(y_test-prediction)"
   ]
  },
  {
   "cell_type": "code",
   "execution_count": 71,
   "id": "f76c71f5",
   "metadata": {
    "execution": {
     "iopub.execute_input": "2022-11-24T09:59:26.617173Z",
     "iopub.status.busy": "2022-11-24T09:59:26.616773Z",
     "iopub.status.idle": "2022-11-24T09:59:26.625475Z",
     "shell.execute_reply": "2022-11-24T09:59:26.624187Z"
    },
    "papermill": {
     "duration": 0.040311,
     "end_time": "2022-11-24T09:59:26.627689",
     "exception": false,
     "start_time": "2022-11-24T09:59:26.587378",
     "status": "completed"
    },
    "tags": []
   },
   "outputs": [
    {
     "data": {
      "text/plain": [
       "0.9021512667042277"
      ]
     },
     "execution_count": 71,
     "metadata": {},
     "output_type": "execute_result"
    }
   ],
   "source": [
    "r2_score(y_test,prediction)"
   ]
  },
  {
   "cell_type": "markdown",
   "id": "6d92d729",
   "metadata": {
    "papermill": {
     "duration": 0.028284,
     "end_time": "2022-11-24T09:59:26.684196",
     "exception": false,
     "start_time": "2022-11-24T09:59:26.655912",
     "status": "completed"
    },
    "tags": []
   },
   "source": [
    "# After hypertuning,the accuracy increases .\n",
    "\n",
    "# IF YOU LIKE THE WORK,PLEASE UPVOTE IT."
   ]
  },
  {
   "cell_type": "code",
   "execution_count": null,
   "id": "153ff436",
   "metadata": {
    "papermill": {
     "duration": 0.027189,
     "end_time": "2022-11-24T09:59:26.739812",
     "exception": false,
     "start_time": "2022-11-24T09:59:26.712623",
     "status": "completed"
    },
    "tags": []
   },
   "outputs": [],
   "source": []
  }
 ],
 "metadata": {
  "kernelspec": {
   "display_name": "Python 3",
   "language": "python",
   "name": "python3"
  },
  "language_info": {
   "codemirror_mode": {
    "name": "ipython",
    "version": 3
   },
   "file_extension": ".py",
   "mimetype": "text/x-python",
   "name": "python",
   "nbconvert_exporter": "python",
   "pygments_lexer": "ipython3",
   "version": "3.7.12"
  },
  "papermill": {
   "default_parameters": {},
   "duration": 59.41967,
   "end_time": "2022-11-24T09:59:29.389389",
   "environment_variables": {},
   "exception": null,
   "input_path": "__notebook__.ipynb",
   "output_path": "__notebook__.ipynb",
   "parameters": {},
   "start_time": "2022-11-24T09:58:29.969719",
   "version": "2.3.4"
  }
 },
 "nbformat": 4,
 "nbformat_minor": 5
}
